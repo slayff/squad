{
 "cells": [
  {
   "cell_type": "markdown",
   "metadata": {
    "show": true
   },
   "source": [
    "# L4 – Word embedding\n",
    "\n",
    "### Resources\n",
    "1. Possible [truncated svd](http://scikit-learn.org/stable/modules/generated/sklearn.decomposition.TruncatedSVD.html#sklearn.decomposition.TruncatedSVD) implementation of sklearn.\n",
    "2. Tensorflow [tutorial](https://www.tensorflow.org/tutorials/word2vec) for word2vec and [implementation](https://github.com/tensorflow/models/tree/master/tutorials/embedding).\n",
    "3. GloVe [site](https://nlp.stanford.edu/projects/glove/).\n",
    "4. FastText [site](https://fasttext.cc).\n",
    "5. [Gensim](https://radimrehurek.com/gensim/) library.\n",
    "\n",
    "**Word embedding** – the collective name for a set of language modeling and feature learning techniques in natural language processing where words or phrases from the vocabulary are mapped to vectors of real numbers. Conceptually it involves a mathematical embedding from a space with one dimension per word to a continuous vector space with much higher dimensionality. Word and phrase embeddings, when used as the underlying input representation, have been shown to boost the performance in NLP tasks such as syntactic parsing, sentiment analysis and translation. Usually, problem reduces to unsupervised learning on a large corpus of text. So, learning process is based on the idea that context of word closely associated with it. For example, the context can be a document in which the word is located or adjacent words."
   ]
  },
  {
   "cell_type": "markdown",
   "metadata": {},
   "source": [
    "### 1. Data\n",
    "\n",
    "As text corpus you may use simple english [wikipedia](https://simple.wikipedia.org/wiki/Simple_English_Wikipedia).\n",
    "1. 131K articles\n",
    "2. 2K common English words.\n",
    "\n",
    "Also you can use just english [wikipedia](https://en.wikipedia.org/wiki/Wikipedia):\n",
    "1. Includes 5М+ articles\n",
    "2. 2M+ different tokens\n",
    "\n",
    "#### Exercises\n",
    "1. Download all wikipedia articles.\n",
    "2. Make all preprocessing work that you need (e.g. remove markup)."
   ]
  },
  {
   "cell_type": "code",
   "execution_count": 16,
   "metadata": {},
   "outputs": [],
   "source": [
    "import tensorflow as tf\n",
    "import gensim\n",
    "import pattern\n",
    "import sklearn.decomposition\n",
    "import scipy.sparse\n",
    "from scipy.spatial.distance import cdist\n",
    "import numpy as np\n",
    "import collections\n",
    "from tqdm import tqdm\n",
    "import random\n",
    "import pickle\n",
    "\n",
    "from gensim.corpora import WikiCorpus, MmCorpus, Dictionary\n",
    "from gensim import corpora, models, similarities"
   ]
  },
  {
   "cell_type": "code",
   "execution_count": 2,
   "metadata": {},
   "outputs": [],
   "source": [
    "import logging\n",
    "logging.basicConfig(format='%(asctime)s : %(levelname)s : %(message)s', level=logging.INFO)"
   ]
  },
  {
   "cell_type": "markdown",
   "metadata": {},
   "source": [
    "We will filter out words which are found is less than 7 articles and those which are attributed to more than 40% of all articles in corpus."
   ]
  },
  {
   "cell_type": "code",
   "execution_count": 43,
   "metadata": {
    "scrolled": true
   },
   "outputs": [
    {
     "name": "stderr",
     "output_type": "stream",
     "text": [
      "2018-02-09 16:46:56,858 : INFO : adding document #0 to Dictionary(0 unique tokens: [])\n",
      "2018-02-09 16:47:04,003 : INFO : adding document #10000 to Dictionary(145816 unique tokens: ['bankruptcy', 'donlin', 'suebians', 'transtromer', 'ot']...)\n",
      "2018-02-09 16:47:10,233 : INFO : adding document #20000 to Dictionary(207404 unique tokens: ['bankruptcy', 'donlin', 'suebians', 'woodsboro', 'praiseland']...)\n",
      "2018-02-09 16:47:17,919 : INFO : adding document #30000 to Dictionary(264020 unique tokens: ['bankruptcy', 'donlin', 'suebians', 'collamer', 'woodsboro']...)\n",
      "2018-02-09 16:47:26,104 : INFO : adding document #40000 to Dictionary(304936 unique tokens: ['bankruptcy', 'donlin', 'suebians', 'collamer', 'woodsboro']...)\n",
      "2018-02-09 16:47:32,796 : INFO : adding document #50000 to Dictionary(358223 unique tokens: ['bankruptcy', 'donlin', 'nothosaur', 'collamer', 'boucherie']...)\n",
      "2018-02-09 16:47:39,689 : INFO : adding document #60000 to Dictionary(411366 unique tokens: ['bankruptcy', 'donlin', 'nothosaur', 'collamer', 'fickman']...)\n",
      "2018-02-09 16:47:45,206 : INFO : adding document #70000 to Dictionary(431810 unique tokens: ['bankruptcy', 'donlin', 'nothosaur', 'collamer', 'fickman']...)\n",
      "2018-02-09 16:47:51,614 : INFO : adding document #80000 to Dictionary(457141 unique tokens: ['bankruptcy', 'donlin', 'nothosaur', 'collamer', 'fickman']...)\n",
      "2018-02-09 16:47:56,568 : INFO : finished iterating over Wikipedia corpus of 87384 documents with 23340546 positions (total 243051 articles, 24725459 positions before pruning articles shorter than 50 words)\n",
      "2018-02-09 16:47:56,659 : INFO : built Dictionary(484214 unique tokens: ['bankruptcy', 'donlin', 'nothosaur', 'collamer', 'fickman']...) from 87384 documents (total 23340546 corpus positions)\n",
      "2018-02-09 16:47:57,850 : INFO : discarding 415578 tokens: [('alvares', 3), ('an', 44251), ('and', 79263), ('aperire', 1), ('as', 47631), ('at', 39163), ('by', 47738), ('for', 52355), ('from', 46165), ('grounation', 2)]...\n",
      "2018-02-09 16:47:57,851 : INFO : keeping 68636 tokens which were in no less than 7 and no more than 34953 (=40.0%) documents\n",
      "2018-02-09 16:47:58,193 : INFO : resulting dictionary: Dictionary(68636 unique tokens: ['unsigned', 'bankruptcy', 'scaling', 'shrimps', 'ciénaga']...)\n",
      "2018-02-09 16:47:58,233 : INFO : saving Dictionary object under filtered_wiki.dict, separately None\n",
      "2018-02-09 16:47:58,283 : INFO : saved filtered_wiki.dict\n"
     ]
    }
   ],
   "source": [
    "DUMP_NAME = \"simplewiki-20180201-pages-articles.xml.bz2\"\n",
    "wiki_corpus = WikiCorpus(DUMP_NAME, lemmatize=False)\n",
    "wiki_corpus.dictionary.filter_extremes(no_below=7, no_above=0.4, keep_n=100000)\n",
    "wiki_corpus.dictionary.save('filtered_wiki.dict')"
   ]
  },
  {
   "cell_type": "code",
   "execution_count": 47,
   "metadata": {
    "scrolled": false
   },
   "outputs": [
    {
     "name": "stderr",
     "output_type": "stream",
     "text": [
      "/usr/local/lib/python3.5/dist-packages/gensim/interfaces.py:60: UserWarning: corpus.save() stores only the (tiny) iteration object; to serialize the actual corpus content, use e.g. MmCorpus.serialize(corpus)\n",
      "  \"corpus.save() stores only the (tiny) iteration object; \"\n",
      "2018-02-09 16:56:14,530 : INFO : saving WikiCorpus object under simple_wiki_corpus, separately None\n",
      "2018-02-09 16:56:14,572 : INFO : saved simple_wiki_corpus\n"
     ]
    }
   ],
   "source": [
    "wiki_corpus.save('simple_wiki_corpus')"
   ]
  },
  {
   "cell_type": "code",
   "execution_count": 3,
   "metadata": {},
   "outputs": [
    {
     "name": "stderr",
     "output_type": "stream",
     "text": [
      "2018-02-10 08:56:21,384 : INFO : loading WikiCorpus object from simple_wiki_corpus\n",
      "2018-02-10 08:56:21,534 : INFO : loading dictionary recursively from simple_wiki_corpus.dictionary.* with mmap=None\n",
      "2018-02-10 08:56:21,537 : INFO : loaded simple_wiki_corpus\n"
     ]
    }
   ],
   "source": [
    "wiki_corpus = WikiCorpus.load('simple_wiki_corpus')"
   ]
  },
  {
   "cell_type": "markdown",
   "metadata": {},
   "source": [
    "### 2. LSA (Latent semantic analysis)\n",
    "This solution uses full document as a context of word. So, we have some vocabulary $W$ and a set of documents $D$. Matrix $X$ with shape $|W| \\times |D|$ at position $w, d$ stores importance of word $w$ for document $d$. If word $w$ is not found in the document $d$ than at appropriate position $X$ has 0 (obviously, matrix is sparse).\n",
    "\n",
    "For each matrix you can find [SVD decomposition](https://en.wikipedia.org/wiki/Singular_value_decomposition)\n",
    "$$X = U \\Sigma V^{T} \\text{, где }$$\n",
    "* $U$ – orthogonal matrix $|W| \\times |W|$ of left singular vectors\n",
    "* $\\Sigma$ – diagonal matrix $|W| \\times |D|$ of singular values\n",
    "* $V$ – orthogonal matrix $|D| \\times |D|$  of right singular vectors\n",
    "\n",
    "Let's suppouse that row $w$ in matrix $U\\Sigma$ is a vector that represents word $w$, and row $d$ of $V$ coresponds to document $d$. In some sense we already found the embeddings of words and documents at the same time. But size of vectors are determined by documents number $|D|$.\n",
    "\n",
    "Nevertheless you can use truncated SVD instead\n",
    "$$ X \\approx X_k = U_k \\Sigma_k V^{T}_k \\text{, where }$$\n",
    "* $U_k$ – $k$ left singular vectors\n",
    "* $\\Sigma_k$ – diagonal matrix $|k| \\times |k|$ of largest singular values\n",
    "* $V_k$ – $k$ right singular vectors\n",
    "\n",
    "Also it known that $X_k$ is the best approximation of $X$ in the term of [Frobenius norm](https://en.wikipedia.org/wiki/Matrix_norm#Frobenius_norm) for all matrices of rank $k$.\n",
    "\n",
    "So, it is possible to obtain a compressed words' representations of size $k \\ll |W|$ as rows of matrix $U_k \\Sigma_k $. It just remains to understand how to calculate the original values of the matrix $X$. There is a set of approaches, here are some of them\n",
    "1. Binary flag that document contains the word.\n",
    "2. The number occurrences of word in document.\n",
    "3. Word frequency that is better known as $tf$ (it's possible also use $\\ln(1 + tf)$).\n",
    "4. [$tf \\cdot idf$](https://ru.wikipedia.org/wiki/TF-IDF).\n",
    "\n",
    "#### Further readning\n",
    "1. You also can read this [aticle](https://en.wikipedia.org/wiki/Latent_semantic_analysis).\n",
    "2. By the way, some [modification](http://www.netflixprize.com/assets/GrandPrize2009_BPC_BellKor.pdf) of SVD decompostion won at [Netflix prize](https://en.wikipedia.org/wiki/Netflix_Prize).\n",
    "3. It is easy to see that the problem of SVD decomposition is reduced to finding eigenvectors of matrix $X \\cdot X^T$.\n",
    "4. You can find [here](https://arxiv.org/abs/0909.4061) probabilistic algorithms of matrix decomposition.\n",
    "\n",
    "#### Exercises\n",
    "1. Find matrix $X$, using you favourite approach (maybe you need the sparse matrix class of scipy library).\n",
    "2. Find word embeddings of size $k = 128$.\n",
    "3. Implement k-nearest neighbor search for Euclidean norm.\n",
    "4. Find 10 nearest words for the set of words: 'cat', 'loves', 'clever' and 'mandarin'.\n",
    "5. Repeat experiment for cosinus as metric. What are the results?"
   ]
  },
  {
   "cell_type": "markdown",
   "metadata": {},
   "source": [
    "Let's firstly find $X$ matrix by using tf-idf approach:"
   ]
  },
  {
   "cell_type": "code",
   "execution_count": null,
   "metadata": {
    "scrolled": false
   },
   "outputs": [],
   "source": [
    "tfidf = models.TfidfModel(wiki_corpus, id2word=wiki_corpus.dictionary)\n",
    "wiki_tfidf = tfidf[wiki_corpus]\n",
    "wiki_sparse = gensim.matutils.corpus2csc(wiki_tfidf)"
   ]
  },
  {
   "cell_type": "markdown",
   "metadata": {},
   "source": [
    "As we have sparse matrix, we can find word embeddings by reducing dimensionality to $R^{128}$"
   ]
  },
  {
   "cell_type": "code",
   "execution_count": 110,
   "metadata": {},
   "outputs": [],
   "source": [
    "DIM = 128"
   ]
  },
  {
   "cell_type": "code",
   "execution_count": 74,
   "metadata": {},
   "outputs": [],
   "source": [
    "svd = sklearn.decomposition.TruncatedSVD(n_components=DIM, n_iter=7, random_state=1773)\n",
    "embeddings = svd.fit_transform(wiki_sparse)"
   ]
  },
  {
   "cell_type": "markdown",
   "metadata": {},
   "source": [
    "Let's save embeddings and sparse matrix in order to use them when reloading kernel."
   ]
  },
  {
   "cell_type": "code",
   "execution_count": 81,
   "metadata": {},
   "outputs": [],
   "source": [
    "np.save('word_embeddings.npy', embeddings)"
   ]
  },
  {
   "cell_type": "code",
   "execution_count": 83,
   "metadata": {},
   "outputs": [],
   "source": [
    "with open('wiki_sparse_tfidf.pickle', 'wb') as f:\n",
    "    pickle.dump(wiki_sparse, f)"
   ]
  },
  {
   "cell_type": "markdown",
   "metadata": {},
   "source": [
    "We're now ready to implement kNN and play with words:"
   ]
  },
  {
   "cell_type": "code",
   "execution_count": 142,
   "metadata": {},
   "outputs": [],
   "source": [
    "def get_k_nearest(word, embeddings, dictionary, k, metric):\n",
    "    def id2word(idx):\n",
    "        return dictionary[idx]\n",
    "    \n",
    "    def word2id(word):\n",
    "        return dictionary.doc2idx([word])[0]\n",
    "    \n",
    "    distances = cdist(embeddings, \n",
    "                      embeddings[word2id(word)].reshape(1, embeddings.shape[1]),\n",
    "                      metric=metric).flatten()\n",
    "        \n",
    "    return [(id2word(x), distances[x]) for x in np.argsort(distances)[:k + 1] if x != word2id(word)][:k]"
   ]
  },
  {
   "cell_type": "code",
   "execution_count": 143,
   "metadata": {},
   "outputs": [],
   "source": [
    "def print_k_nearest(word, embeddings, dictionary, k, metric):\n",
    "    nearest_list = get_k_nearest(word, embeddings, dictionary, k, metric)\n",
    "    print('Nearest to', word)\n",
    "    print('%15s %10s' %('word', 'distance'))\n",
    "    print('='*30)\n",
    "    for word_info in nearest_list:\n",
    "        print(\"%15s | %.4f\" %(word_info[0], word_info[1]))\n",
    "    print('='*30, end='\\n\\n')"
   ]
  },
  {
   "cell_type": "code",
   "execution_count": 201,
   "metadata": {
    "scrolled": true
   },
   "outputs": [
    {
     "name": "stdout",
     "output_type": "stream",
     "text": [
      "Nearest to cat\n",
      "           word   distance\n",
      "==============================\n",
      "           cats | 0.3558\n",
      "            dog | 0.4080\n",
      "          breed | 0.4174\n",
      "           bear | 0.4245\n",
      "         spider | 0.4298\n",
      "           dogs | 0.4322\n",
      "           eyes | 0.4328\n",
      "            fur | 0.4356\n",
      "           duck | 0.4549\n",
      "     appearance | 0.4558\n",
      "==============================\n",
      "\n",
      "Nearest to loves\n",
      "           word   distance\n",
      "==============================\n",
      "          funny | 0.1129\n",
      "          likes | 0.1129\n",
      "           ugly | 0.1254\n",
      "            mom | 0.1260\n",
      "      wonderful | 0.1260\n",
      "           sees | 0.1275\n",
      "           wish | 0.1280\n",
      "          knows | 0.1289\n",
      "          proud | 0.1297\n",
      "          curse | 0.1308\n",
      "==============================\n",
      "\n",
      "Nearest to clever\n",
      "           word   distance\n",
      "==============================\n",
      "        realize | 0.0395\n",
      "        jealous | 0.0405\n",
      "         honest | 0.0435\n",
      "       persuade | 0.0435\n",
      "     frightened | 0.0436\n",
      "          wakes | 0.0441\n",
      "     dostoevsky | 0.0442\n",
      "        shocked | 0.0444\n",
      "          cared | 0.0445\n",
      "         liking | 0.0446\n",
      "==============================\n",
      "\n",
      "Nearest to mandarin\n",
      "           word   distance\n",
      "==============================\n",
      "     simplified | 0.1181\n",
      "      cantonese | 0.1386\n",
      "      taiwanese | 0.1669\n",
      "           chen | 0.1814\n",
      "      guangdong | 0.1815\n",
      "          macau | 0.1842\n",
      "             yu | 0.1844\n",
      "          jiang | 0.1851\n",
      "          zhang | 0.1858\n",
      "         chiang | 0.1863\n",
      "==============================\n",
      "\n"
     ]
    }
   ],
   "source": [
    "print_k_nearest('cat', embeddings, wiki_corpus.dictionary, 10, 'euclidean')\n",
    "print_k_nearest('loves', embeddings, wiki_corpus.dictionary, 10, 'euclidean')\n",
    "print_k_nearest('clever', embeddings, wiki_corpus.dictionary, 10, 'euclidean')\n",
    "print_k_nearest('mandarin', embeddings, wiki_corpus.dictionary, 10, 'euclidean')"
   ]
  },
  {
   "cell_type": "markdown",
   "metadata": {},
   "source": [
    "Let's change metric to cosine and compare results:"
   ]
  },
  {
   "cell_type": "code",
   "execution_count": 195,
   "metadata": {
    "scrolled": true
   },
   "outputs": [
    {
     "name": "stdout",
     "output_type": "stream",
     "text": [
      "Nearest to cat\n",
      "           word   distance\n",
      "==============================\n",
      "           cats | 0.1244\n",
      "            dog | 0.1496\n",
      "            pet | 0.1554\n",
      "        kittens | 0.1598\n",
      "           paws | 0.1783\n",
      "          tabby | 0.1957\n",
      "           ears | 0.1993\n",
      "         rabbit | 0.2100\n",
      "       whiskers | 0.2102\n",
      "        siamese | 0.2176\n",
      "==============================\n",
      "\n",
      "Nearest to loves\n",
      "           word   distance\n",
      "==============================\n",
      "         friend | 0.1268\n",
      "        friends | 0.1354\n",
      "          happy | 0.1744\n",
      "           ugly | 0.1892\n",
      "          funny | 0.1900\n",
      "          likes | 0.1904\n",
      "           girl | 0.2024\n",
      "            mom | 0.2061\n",
      "       realises | 0.2061\n",
      "          proud | 0.2093\n",
      "==============================\n",
      "\n",
      "Nearest to clever\n",
      "           word   distance\n",
      "==============================\n",
      "         really | 0.1686\n",
      "         thinks | 0.1713\n",
      "        telling | 0.1714\n",
      "          knows | 0.1721\n",
      "          angry | 0.1810\n",
      "        jealous | 0.1847\n",
      "        realize | 0.1995\n",
      "          proud | 0.2014\n",
      "       dislikes | 0.2068\n",
      "            sad | 0.2099\n",
      "==============================\n",
      "\n",
      "Nearest to mandarin\n",
      "           word   distance\n",
      "==============================\n",
      "      cantonese | 0.0334\n",
      "     simplified | 0.0863\n",
      "        hokkien | 0.0991\n",
      "             mǎ | 0.1026\n",
      "            rén | 0.1152\n",
      "          hakka | 0.1195\n",
      "    proficiency | 0.1201\n",
      "        chinese | 0.1326\n",
      "       tungusic | 0.1501\n",
      "         pinyin | 0.1637\n",
      "==============================\n",
      "\n"
     ]
    }
   ],
   "source": [
    "print_k_nearest('cat', embeddings, wiki_corpus.dictionary, 10, 'cosine')\n",
    "print_k_nearest('loves', embeddings, wiki_corpus.dictionary, 10, 'cosine')\n",
    "print_k_nearest('clever', embeddings, wiki_corpus.dictionary, 10, 'cosine')\n",
    "print_k_nearest('mandarin', embeddings, wiki_corpus.dictionary, 10, 'cosine')"
   ]
  },
  {
   "cell_type": "markdown",
   "metadata": {},
   "source": [
    "As we can see, cosine metric performs a little bit better meaning that nearest words are generally more relevant, comparing to results with euclidean metric."
   ]
  },
  {
   "cell_type": "markdown",
   "metadata": {},
   "source": [
    "### 3. word2vec\n",
    "Let's consider perhaps the most popular model of word embeddings. This is mainly due to the fact that the received vectors have interesting properties. In particular, semantically similar words have close vectors, moreover linear operation of subtraction has meaning in the resulting vector space! The context of word at this time is a window of size $2c+1$, where interested word is located in the middle.\n",
    "\n",
    "#### Continuous bag-of-words\n",
    "The core idea is very simple. There is some very long text\n",
    "$$w_1, w_2, \\dots, w_T.$$\n",
    "Consider some word $w_t$ and its context in radius $c$, namely words\n",
    "$$w_{t-c}, \\dots, w_{t-1}, w_{t+1}, \\dots w_{t+c}.$$\n",
    "Intuition tells us that the context often really well defines the word in the middle. Then let our model restore the central word if its context is known\n",
    "$$\\mathcal{L} = - \\frac{1}{T}\\sum_{t} \\log \\mathbb{P}[w_t|w_{t-c}, \\dots, w_{t-1}, w_{t+1}, \\dots w_{t+c}].$$\n",
    "\n",
    "For each word $w_t$ there is some vector $v_t$, but if word $w_{t+i}$ is some context than we use vector $v'_{t+i}$. In this case we can represent context of word as the following sum\n",
    "$$s'_t = \\sum_{c \\leq i \\leq c, i \\neq 0} v'_{t+i}$$\n",
    "\n",
    "And define probabilty with softmax\n",
    "$$\\mathbb{P}[w_t|w_{t-c}, \\dots, w_{t-1}, w_{t-1}, \\dots w_{t+c}] = \\frac{ \\exp {s'}_t^T \\cdot v_t}{\\sum_j \\exp {s'}_t^T \\cdot v_j}.$$\n",
    "\n",
    "Note that this model is easy to present as 2-layer neural network:\n",
    "* The input is a sparse vector of dimension $|W|$ which at position $w'$ has one if word $w'$ is in context.\n",
    "* Further, we have matrix $V'$ of vectors $v'$.\n",
    "* Further, without any non-linearity matrix $V$ of vector $v$.\n",
    "* And then the softmax layer.\n",
    "\n",
    "#### Skip-gram\n",
    "Another model predicts context for some word. The design is approximately the same, we need to optimize\n",
    "$$\\mathcal{L} = -\\frac{1}{T} \\sum_t \\sum_{-c \\leq i \\leq c, i \\neq 0} \\mathbb{P}[w_{t+i}|w_t].$$\n",
    "\n",
    "The probability is approximated by the following model\n",
    "$$\\mathbb{P}[w_{t+i}|w_t] = \\frac{ \\exp {v'}_{t+i}^T \\cdot v_t}{\\sum_j \\exp {v'}_{j}^T \\cdot v_t}.$$\n",
    "\n",
    "\n",
    "#### Hierarchical softmax\n",
    "Creation of this mode was guided to reduce the complexity of learning. However, computing of sofmax's denominator is really expensive operation. Therefore, in practice, a few other models are used.\n",
    "\n",
    "This method was viewed in the seminar. Detailed information can be found [here](http://www.iro.umontreal.ca/~lisa/pointeurs/hierarchical-nnlm-aistats05.pdf) and practical using [here](http://papers.nips.cc/paper/5021-distributed-representations-of-words-and-phrases-and-their-compositionality.pdf).    Briefly recall, for each word from the dictionary we define [Huffman code](https://en.wikipedia.org/wiki/Huffman_coding). More frequency words have shorter code. Then we construct the Huffman tree. In accordance with its code words are stored in leaves. In the non-leaf vertices are stored special hidden representations $h'$. \n",
    "\n",
    "$$\\mathbb{P}[w_{t+i}|w_t] = \\prod_{{h'}_{t+i}, r} \\sigma\\Big( \\mathcal{r} \\cdot {h'}^T_{t+i} v_t \\Big) \\text{, where}$$\n",
    "* ${h'}_{t+i}$ - hidden vector of word's path $w_{t+i}$\n",
    "* $\\mathcal{r}$ - equals $-1$, if we turn left and $+1$ in another case\n",
    "* $\\sigma$ - sigmoid function\n",
    "\n",
    "Using hierarchical softmax as approximation of softmax allows us to significantly reduce complexity of model training. \n",
    "\n",
    "#### Exercise\n",
    "1. How can you implement skip-gram model as neural network.\n",
    "2. Estimate complexity of one iteration of training the skip-gram model\n",
    "  * $T$ - text size\n",
    "  * $W$ - vocabulary size\n",
    "  * $c$ - context radius\n",
    "  * $d$ - embedding size\n",
    "3. Estimate complexity of using hierarchical softmax in the skip-gram model.\n",
    "\n",
    "#### Why sampling?\n",
    "Let see at softmax funciton\n",
    "$$\\mathbb{P}[x_i] = \\frac{\\exp f(x_i|\\theta)}{\\sum_j \\exp f(x_j|\\theta)}$$\n",
    "Optimizing this function is equivalent to optimizing its logarithm\n",
    "$$\\log \\frac{\\exp f(x_i|\\theta)}{\\sum_j \\exp f(x_j|\\theta)} = f(x_i|\\theta) - log \\sum_j \\exp f(x_j|\\theta)$$\n",
    "Than gradient $\\triangledown_{\\theta} \\mathbb{P}[x_i]$ is equal to\n",
    "$$\\triangledown_{\\theta} f(x_i|\\theta) - \\sum_k \\frac{\\exp f(x_k|\\theta)}{\\sum_j \\exp f(w_j|\\theta)} \\triangledown_{\\theta} f(x_k|\\theta)$$\n",
    "Inside the sum we can find $\\mathbb{P}[x_k]$ again. So, the previous expression can be written as\n",
    "$$\n",
    "\\triangledown_{\\theta} f(x_i|\\theta) - \\sum_k \\mathbb{P}[x_k] \\cdot \\triangledown_{\\theta} f(x_k|\\theta) = \n",
    "\\triangledown_{\\theta} f(x_i|\\theta) - \\mathbb{E}_{x \\sim \\mathbb{P}[x]} \\triangledown_{\\theta} f(x|\\theta)\n",
    "$$\n",
    "If we can sample $x \\sim \\mathbb{P}[x]$, then we has no sense to calculate the softmax itself. We just can train model, computing only gradient. It is possible due to the fact that we do not need the probability itself, but want to find representation of words only.\n",
    "\n",
    "#### Negative Sampling\n",
    "As the result, in practice, softmax loss functions is approximated with negative sampling, which looks like a series of logistic regressions\n",
    "$$\\mathcal{L} = - \\frac{1}{T}\\sum_{w_t}\n",
    "    \\sum_{-c \\leq i \\leq c, i \\neq 0} \\Big(\n",
    "        \\mathbb{P}[y = 1 | w_{t+i}, w_t] -\n",
    "        k \\cdot \\mathbb{E}_{\\tilde{w}_{tj} \\sim \\mathbb{P}[w_j|w_t]} \\mathbb{P}[y = 0 | \\tilde{w}_{tj}, w_t]\n",
    "    \\Big)\n",
    "$$\n",
    "where $y=1$, if  word is a context of word and $y=0$ in another case. А $\\tilde{w}_{tj}$ – sampling of words that don't belong to the context. Then main trick is how we will sample words $\\mathbb{P}[y | w_{t+i}, w_t]$. In paper [noise contrastive estimation](https://www.cs.helsinki.fi/u/ahyvarin/papers/Gutmann10AISTATS.pdf) some interesting approaches is suggested. But we are going to use more simple variation\n",
    "$$\\mathcal{L} = - \\frac{1}{T}\\sum_{w_t} \\Big(\n",
    "    \\sum_{-c \\leq i \\leq c, i \\neq 0} \\big(\n",
    "        \\sigma({v'}_{t+i}^T v_t) +\n",
    "        k \\cdot \\mathbb{E}_{w_j \\sim \\mathbb{Q}(w_j)} \\sigma (-{v'}_{j}^T v_t)\n",
    "    \\big)\n",
    "\\Big),\n",
    "$$\n",
    "to find  $\\mathbb{E}_{\\tilde{w}_{tj} \\sim \\mathbb{P}[w_j|w_t]}$ we simply sample words $k$ times from distribution $\\mathbb{Q}$, $\\mathbb{P}(w_j|w_t) = \\mathbb{Q}(w_j)$.\n",
    "\n",
    "#### Additional word2vec tricks\n",
    "For the best quality at the moment of learning it is proposed to use variety of tricks:\n",
    "1. How to choose $\\mathbb{Q}$.\n",
    "2. Sampling of frequent and rare words.\n",
    "3. The sampling of window size.\n",
    "You are welcome to read about this in original papers.\n",
    "\n",
    "#### Further reading\n",
    "1. Briefly about both models [here](https://arxiv.org/pdf/1301.3781.pdf).\n",
    "2. Hierarchical softmax and negative sampling [here](http://papers.nips.cc/paper/5021-distributed-representations-of-words-and-phrases-and-their-compositionality.pdf).\n",
    "\n",
    "#### Exercises\n",
    "1. Train skip-gram model, using negative sampling and embedding size $d$ = 256. You are free to choose size of window and number of epochs.\n",
    "2. Find top-10 nearest words again. Compare Euclidean and cosinus metric. Which is better? \n",
    "3. Find 10 nearest vector for expression v(king) - v(man) + v(women). If your model is tuned well, you find representation of word queen. \n",
    "4. How could you solve the following problems?\n",
    "  * Find for country its capital\n",
    "  * For a word find its plural form\n",
    "  * For word define antonyms"
   ]
  },
  {
   "cell_type": "code",
   "execution_count": 10,
   "metadata": {
    "scrolled": false
   },
   "outputs": [
    {
     "name": "stderr",
     "output_type": "stream",
     "text": [
      "2018-02-10 08:59:07,949 : INFO : loading Dictionary object from filtered_wiki.dict\n",
      "2018-02-10 08:59:08,111 : INFO : loaded filtered_wiki.dict\n"
     ]
    }
   ],
   "source": [
    "filtered_voc = Dictionary.load('filtered_wiki.dict')\n",
    "vocabulary_set = set(filtered_voc.values())\n",
    "vocabulary_size = len(vocabulary_set)"
   ]
  },
  {
   "cell_type": "code",
   "execution_count": 11,
   "metadata": {},
   "outputs": [],
   "source": [
    "def build_dataset(corpus, vocabulary):\n",
    "    words = []\n",
    "    \n",
    "    print('INFO: extracting words from corpus')\n",
    "    for text in tqdm(corpus.get_texts()):\n",
    "        words.extend([word for word in text if word in vocabulary])\n",
    "    count = []\n",
    "    count.extend(collections.Counter(words).most_common())\n",
    "    dictionary = dict()\n",
    "    \n",
    "    print('INFO: creating dictionary')\n",
    "    for word, _ in tqdm(count):\n",
    "        dictionary[word] = len(dictionary)\n",
    "        \n",
    "    data = list()\n",
    "    print('INFO: creating dataset')\n",
    "    for word in tqdm(words):\n",
    "        index = dictionary[word]\n",
    "        data.append(index)\n",
    "    reversed_dictionary = dict(zip(dictionary.values(), dictionary.keys()))\n",
    "    return data, count, dictionary, reversed_dictionary"
   ]
  },
  {
   "cell_type": "code",
   "execution_count": 12,
   "metadata": {
    "scrolled": false
   },
   "outputs": [
    {
     "name": "stderr",
     "output_type": "stream",
     "text": [
      "\r",
      "0it [00:00, ?it/s]"
     ]
    },
    {
     "name": "stdout",
     "output_type": "stream",
     "text": [
      "INFO: extracting words from corpus\n"
     ]
    },
    {
     "name": "stderr",
     "output_type": "stream",
     "text": [
      "87304it [01:35, 918.50it/s] 2018-02-10 09:00:53,529 : INFO : finished iterating over Wikipedia corpus of 87384 documents with 23340546 positions (total 243051 articles, 24725459 positions before pruning articles shorter than 50 words)\n",
      "87384it [01:35, 917.68it/s]\n",
      "100%|██████████| 68636/68636 [00:00<00:00, 631949.67it/s]\n",
      "  0%|          | 0/16506837 [00:00<?, ?it/s]"
     ]
    },
    {
     "name": "stdout",
     "output_type": "stream",
     "text": [
      "INFO: creating dictionary\n",
      "INFO: creating dataset\n"
     ]
    },
    {
     "name": "stderr",
     "output_type": "stream",
     "text": [
      "100%|██████████| 16506837/16506837 [00:13<00:00, 1256376.18it/s]\n"
     ]
    }
   ],
   "source": [
    "t_data, t_count, t_dict, t_rev_dict = build_dataset(wiki_corpus, vocabulary_set)"
   ]
  },
  {
   "cell_type": "code",
   "execution_count": 17,
   "metadata": {},
   "outputs": [],
   "source": [
    "with open('t_data.pickle', 'wb') as f:\n",
    "    pickle.dump(t_data, f)\n",
    "with open('t_dict.pickle', 'wb') as f:\n",
    "    pickle.dump(t_dict, f)\n",
    "with open('t_rev_dict.pickle', 'wb') as f:\n",
    "    pickle.dump(t_rev_dict, f)   "
   ]
  },
  {
   "cell_type": "code",
   "execution_count": null,
   "metadata": {},
   "outputs": [],
   "source": [
    "with open('t_data.pickle', 'rb') as f:\n",
    "    t_data = pickle.load(f)\n",
    "with open('t_dict.pickle', 'rb') as f:\n",
    "    t_dict = pickle.load(f)\n",
    "with open('t_rev_dict.pickle', 'rb') as f:\n",
    "    t_rev_dict = pickle.load(f)"
   ]
  },
  {
   "cell_type": "code",
   "execution_count": 62,
   "metadata": {},
   "outputs": [],
   "source": [
    "data_index = 0\n",
    "\n",
    "def generate_batch(data, batch_size, num_skips, skip_window):\n",
    "    global data_index\n",
    "    assert batch_size % num_skips == 0\n",
    "    assert num_skips <= 2 * skip_window\n",
    "    \n",
    "    batch = np.ndarray(shape=(batch_size), dtype=np.int32)\n",
    "    labels = np.ndarray(shape=(batch_size, 1), dtype=np.int32)\n",
    "    \n",
    "    span = 2 * skip_window + 1  # [ skip_window target skip_window ]\n",
    "    buffer = collections.deque(maxlen=span)\n",
    "    \n",
    "    for _ in range(span):\n",
    "        buffer.append(data[data_index])\n",
    "        data_index = (data_index + 1) % len(data)\n",
    "    \n",
    "    for i in range(batch_size // num_skips):\n",
    "        context_words = [w for w in range(span) if w != skip_window]\n",
    "        words_to_use = random.sample(context_words, num_skips)\n",
    "        \n",
    "        for j, context_word in enumerate(words_to_use):\n",
    "            batch[i * num_skips + j] = buffer[skip_window]\n",
    "            labels[i * num_skips + j, 0] = buffer[context_word]\n",
    "            \n",
    "        buffer.append(data[data_index])\n",
    "        data_index = (data_index + 1) % len(data)\n",
    "    # Backtrack a little bit to avoid skipping words in the end of a batch\n",
    "    data_index = (data_index + len(data) - span) % len(data)\n",
    "    return batch, labels"
   ]
  },
  {
   "cell_type": "markdown",
   "metadata": {},
   "source": [
    "Size of the whole corpus in words:"
   ]
  },
  {
   "cell_type": "code",
   "execution_count": 63,
   "metadata": {},
   "outputs": [
    {
     "data": {
      "text/plain": [
       "16506837"
      ]
     },
     "execution_count": 63,
     "metadata": {},
     "output_type": "execute_result"
    }
   ],
   "source": [
    "len(t_data)"
   ]
  },
  {
   "cell_type": "markdown",
   "metadata": {},
   "source": [
    "Initializing our graph:"
   ]
  },
  {
   "cell_type": "code",
   "execution_count": 66,
   "metadata": {},
   "outputs": [],
   "source": [
    "batch_size = 512\n",
    "embedding_size = 256\n",
    "skip_window = 4\n",
    "num_skips = 8\n",
    "num_sampled = 64\n",
    "\n",
    "w2vec_graph = tf.Graph()\n",
    "\n",
    "with w2vec_graph.as_default():\n",
    "    with tf.name_scope('inputs'):\n",
    "        train_inputs = tf.placeholder(tf.int32, shape=[batch_size])\n",
    "        train_labels = tf.placeholder(tf.int32, shape=[batch_size, 1])\n",
    "        \n",
    "    with tf.name_scope('embeddings'):\n",
    "        embeddings = tf.Variable(tf.random_uniform([vocabulary_size, embedding_size], -1.0, 1.0))\n",
    "        embed = tf.nn.embedding_lookup(embeddings, train_inputs)\n",
    "    \n",
    "    with tf.name_scope('weights'):\n",
    "        nce_weights = tf.Variable(tf.truncated_normal(\n",
    "            [vocabulary_size, embedding_size],\n",
    "            stddev=1.0 / np.sqrt(embedding_size)))\n",
    "        \n",
    "    with tf.name_scope('biases'):\n",
    "        nce_biases = tf.Variable(tf.zeros([vocabulary_size]))\n",
    "        \n",
    "    with tf.name_scope('loss'):\n",
    "        loss = tf.reduce_mean(\n",
    "            tf.nn.nce_loss(\n",
    "                weights=nce_weights,\n",
    "                biases=nce_biases,\n",
    "                labels=train_labels,\n",
    "                inputs=embed,\n",
    "                num_sampled=num_sampled,\n",
    "                num_classes=vocabulary_size))\n",
    "        \n",
    "    tf.summary.scalar('loss', loss)\n",
    "    with tf.name_scope('optimizer'):\n",
    "        optimizer = tf.train.AdagradOptimizer(1.0).minimize(loss)\n",
    "    \n",
    "    norm = tf.sqrt(tf.reduce_sum(tf.square(embeddings), 1, keepdims=True))\n",
    "    normalized_embeddings = embeddings / norm\n",
    "    merged = tf.summary.merge_all()\n",
    "    init = tf.global_variables_initializer()\n",
    "    saver = tf.train.Saver()"
   ]
  },
  {
   "cell_type": "code",
   "execution_count": 69,
   "metadata": {},
   "outputs": [],
   "source": [
    "EPOCHS = 5\n",
    "num_steps = int((len(t_data) * num_skips * EPOCHS) / batch_size)"
   ]
  },
  {
   "cell_type": "code",
   "execution_count": 71,
   "metadata": {
    "scrolled": true
   },
   "outputs": [
    {
     "name": "stderr",
     "output_type": "stream",
     "text": [
      "\r",
      "  0%|          | 0/1289596 [00:00<?, ?it/s]"
     ]
    },
    {
     "name": "stdout",
     "output_type": "stream",
     "text": [
      "Successfully initialized\n"
     ]
    },
    {
     "name": "stderr",
     "output_type": "stream",
     "text": [
      "  0%|          | 22/1289596 [00:00<12:29:34, 28.67it/s]"
     ]
    },
    {
     "name": "stdout",
     "output_type": "stream",
     "text": [
      "Average loss at step  0 :  282.5571594238281\n"
     ]
    },
    {
     "name": "stderr",
     "output_type": "stream",
     "text": [
      "  8%|▊         | 100030/1289596 [08:14<1:38:05, 202.13it/s]"
     ]
    },
    {
     "name": "stdout",
     "output_type": "stream",
     "text": [
      "Average loss at step  100000 :  13.317427683334797\n"
     ]
    },
    {
     "name": "stderr",
     "output_type": "stream",
     "text": [
      " 16%|█▌        | 200041/1289596 [16:49<1:31:41, 198.06it/s]"
     ]
    },
    {
     "name": "stdout",
     "output_type": "stream",
     "text": [
      "Average loss at step  200000 :  5.227850022745468\n"
     ]
    },
    {
     "name": "stderr",
     "output_type": "stream",
     "text": [
      " 23%|██▎       | 300036/1289596 [25:15<1:23:17, 198.01it/s]"
     ]
    },
    {
     "name": "stdout",
     "output_type": "stream",
     "text": [
      "Average loss at step  300000 :  4.821929051463008\n"
     ]
    },
    {
     "name": "stderr",
     "output_type": "stream",
     "text": [
      " 31%|███       | 400021/1289596 [33:46<1:15:05, 197.44it/s]"
     ]
    },
    {
     "name": "stdout",
     "output_type": "stream",
     "text": [
      "Average loss at step  400000 :  4.68575696776554\n"
     ]
    },
    {
     "name": "stderr",
     "output_type": "stream",
     "text": [
      " 39%|███▉      | 500035/1289596 [42:31<1:07:08, 196.01it/s]"
     ]
    },
    {
     "name": "stdout",
     "output_type": "stream",
     "text": [
      "Average loss at step  500000 :  4.584094977859906\n"
     ]
    },
    {
     "name": "stderr",
     "output_type": "stream",
     "text": [
      " 47%|████▋     | 600032/1289596 [51:26<59:06, 194.43it/s]  "
     ]
    },
    {
     "name": "stdout",
     "output_type": "stream",
     "text": [
      "Average loss at step  600000 :  4.527094622088522\n"
     ]
    },
    {
     "name": "stderr",
     "output_type": "stream",
     "text": [
      " 54%|█████▍    | 700024/1289596 [1:00:19<50:48, 193.40it/s]"
     ]
    },
    {
     "name": "stdout",
     "output_type": "stream",
     "text": [
      "Average loss at step  700000 :  4.456243759230608\n"
     ]
    },
    {
     "name": "stderr",
     "output_type": "stream",
     "text": [
      " 62%|██████▏   | 800021/1289596 [1:08:50<42:07, 193.67it/s]"
     ]
    },
    {
     "name": "stdout",
     "output_type": "stream",
     "text": [
      "Average loss at step  800000 :  4.4044353070244195\n"
     ]
    },
    {
     "name": "stderr",
     "output_type": "stream",
     "text": [
      " 70%|██████▉   | 900032/1289596 [1:17:08<33:23, 194.47it/s]"
     ]
    },
    {
     "name": "stdout",
     "output_type": "stream",
     "text": [
      "Average loss at step  900000 :  4.463138868501336\n"
     ]
    },
    {
     "name": "stderr",
     "output_type": "stream",
     "text": [
      " 78%|███████▊  | 1000027/1289596 [1:25:38<24:47, 194.63it/s]"
     ]
    },
    {
     "name": "stdout",
     "output_type": "stream",
     "text": [
      "Average loss at step  1000000 :  4.3799824861003644\n"
     ]
    },
    {
     "name": "stderr",
     "output_type": "stream",
     "text": [
      " 85%|████████▌ | 1100037/1289596 [1:34:27<16:16, 194.10it/s]"
     ]
    },
    {
     "name": "stdout",
     "output_type": "stream",
     "text": [
      "Average loss at step  1100000 :  4.37682833045423\n"
     ]
    },
    {
     "name": "stderr",
     "output_type": "stream",
     "text": [
      " 93%|█████████▎| 1200032/1289596 [1:42:57<07:41, 194.27it/s]"
     ]
    },
    {
     "name": "stdout",
     "output_type": "stream",
     "text": [
      "Average loss at step  1200000 :  4.360913152610138\n"
     ]
    },
    {
     "name": "stderr",
     "output_type": "stream",
     "text": [
      "100%|██████████| 1289596/1289596 [1:50:45<00:00, 194.05it/s]\n"
     ]
    }
   ],
   "source": [
    "with tf.Session(graph=w2vec_graph) as session:\n",
    "    init.run()\n",
    "    print('Successfully initialized')\n",
    "\n",
    "    average_loss = 0\n",
    "    for step in tqdm(range(num_steps)):\n",
    "        batch_inputs, batch_labels = generate_batch(t_data, batch_size, num_skips, skip_window)\n",
    "        feed_dict = {train_inputs: batch_inputs, train_labels: batch_labels}\n",
    "\n",
    "        _, loss_val = session.run([optimizer, loss],\n",
    "                              feed_dict=feed_dict)\n",
    "        average_loss += loss_val\n",
    "\n",
    "        if step % 100000 == 0:\n",
    "            if step > 0:\n",
    "                average_loss /= 100000\n",
    "            # The average loss is an estimate of the loss over the last 100000 batches.\n",
    "            print('Average loss at step ', step, ': ', average_loss)\n",
    "            average_loss = 0\n",
    "    final_embeddings_norm = normalized_embeddings.eval()\n",
    "    final_embeddings = embeddings.eval()\n"
   ]
  },
  {
   "cell_type": "markdown",
   "metadata": {},
   "source": [
    "Saving models in order to use it after restarting kernel:"
   ]
  },
  {
   "cell_type": "code",
   "execution_count": 72,
   "metadata": {},
   "outputs": [],
   "source": [
    "np.save('w2v_norm_embed', final_embeddings_norm)\n",
    "np.save('w2v_embed', final_embeddings)"
   ]
  },
  {
   "cell_type": "code",
   "execution_count": 21,
   "metadata": {},
   "outputs": [],
   "source": [
    "final_embeddings_norm = np.load('w2v_norm_embed.npy')\n",
    "final_embeddings = np.load('w2v_embed.npy')"
   ]
  },
  {
   "cell_type": "code",
   "execution_count": 87,
   "metadata": {},
   "outputs": [],
   "source": [
    "class SkipGramModel:\n",
    "    def __init__(self, embeddings, word2id_dict, id2word_dict, normalised_embeddings=None):\n",
    "        self.embeddings = embeddings\n",
    "        self.normalised_embeddings = normalised_embeddings\n",
    "        self.word2id_dict = word2id_dict\n",
    "        self.id2word_dict = id2word_dict\n",
    "    \n",
    "    def print_nearest(self, word, neighb_n, metric, use_normalised=False):\n",
    "        embeddings = self.embeddings\n",
    "        if use_normalised and self.normalised_embeddings is not None:\n",
    "            embeddings = self.normalised_embeddings\n",
    "        word2id_dict = self.word2id_dict\n",
    "        id2word_dict = self.id2word_dict\n",
    "        distances = cdist(embeddings,\n",
    "                          embeddings[word2id_dict[word]].reshape(1, embeddings.shape[1]),\n",
    "                          metric=metric).flatten()\n",
    "\n",
    "        nearest_list = [(id2word_dict[x], distances[x]) for x in \n",
    "                        np.argsort(distances)[:neighb_n + 1] if x != word2id_dict[word]][:neighb_n]\n",
    "\n",
    "        print('Nearest to', word)\n",
    "        print('%15s %10s' %('word', 'distance'))\n",
    "        print('='*30)\n",
    "        for word_info in nearest_list:\n",
    "            print(\"%15s | %.4f\" %(word_info[0], word_info[1]))\n",
    "        print('='*30, end='\\n\\n')\n",
    "    \n",
    "    def print_sub_add_nearest(self, in_word, sub_word, add_word, neighb_n, metric, use_normalised=False):\n",
    "        embeddings = self.embeddings\n",
    "        if use_normalised and self.normalised_embeddings is not None:\n",
    "            embeddings = self.normalised_embeddings\n",
    "        word2id_dict = self.word2id_dict\n",
    "        id2word_dict = self.id2word_dict\n",
    "        input_word_ids = [word2id_dict[x] for x in [in_word, sub_word, add_word]]\n",
    "        new_word_embed = embeddings[word2id_dict[in_word]] - embeddings[word2id_dict[sub_word]] + embeddings[word2id_dict[add_word]]\n",
    "        distances = cdist(embeddings, \n",
    "                          new_word_embed.reshape(1, embeddings.shape[1]),\n",
    "                          metric=metric).flatten()\n",
    "        nearest_list = [(id2word_dict[x], distances[x]) for x in \n",
    "                        np.argsort(distances)[:neighb_n + 3] if x not in input_word_ids][:neighb_n]\n",
    "\n",
    "        print('Nearest to %s - %s + %s' % (in_word, sub_word, add_word))\n",
    "        print('%15s %10s' %('word', 'distance'))\n",
    "        print('='*30)\n",
    "        for word_info in nearest_list:\n",
    "            print(\"%15s | %.4f\" %(word_info[0], word_info[1]))\n",
    "        print('='*30, end='\\n\\n')"
   ]
  },
  {
   "cell_type": "code",
   "execution_count": 89,
   "metadata": {
    "scrolled": true
   },
   "outputs": [
    {
     "name": "stdout",
     "output_type": "stream",
     "text": [
      "Nearest to cat\n",
      "           word   distance\n",
      "==============================\n",
      "           cats | 4.2294\n",
      "            dog | 4.3203\n",
      "           face | 4.6912\n",
      "          breed | 4.7318\n",
      "        friends | 4.7472\n",
      "            man | 4.7570\n",
      "       probably | 4.7633\n",
      "            now | 4.7661\n",
      "       actually | 4.7740\n",
      "          white | 4.7745\n",
      "==============================\n",
      "\n",
      "Nearest to loves\n",
      "           word   distance\n",
      "==============================\n",
      "           love | 4.5964\n",
      "          wants | 4.6275\n",
      "           sees | 4.7487\n",
      "         thinks | 4.7531\n",
      "            him | 4.7593\n",
      "          tells | 4.8218\n",
      "       actually | 4.8347\n",
      "      everybody | 4.8473\n",
      "           them | 4.8668\n",
      "          loved | 4.8695\n",
      "==============================\n",
      "\n",
      "Nearest to clever\n",
      "           word   distance\n",
      "==============================\n",
      "         really | 5.7128\n",
      "           good | 5.7470\n",
      "          happy | 5.8393\n",
      "           said | 5.8568\n",
      "            fun | 5.8741\n",
      "        however | 5.8998\n",
      "            but | 5.9081\n",
      "            say | 5.9280\n",
      "         simple | 5.9456\n",
      "        because | 5.9582\n",
      "==============================\n",
      "\n",
      "Nearest to mandarin\n",
      "           word   distance\n",
      "==============================\n",
      "        chinese | 5.1909\n",
      "        english | 5.4828\n",
      "           hong | 5.7554\n",
      "          while | 5.8183\n",
      "        however | 5.8637\n",
      "             mr | 5.9137\n",
      "          words | 5.9198\n",
      "       november | 5.9369\n",
      "         normal | 5.9382\n",
      "       language | 5.9384\n",
      "==============================\n",
      "\n"
     ]
    }
   ],
   "source": [
    "sgm = SkipGramModel(final_embeddings, t_dict, t_rev_dict, final_embeddings_norm)\n",
    "sgm.print_nearest('cat', 10, 'euclidean')\n",
    "sgm.print_nearest('loves', 10, 'euclidean')\n",
    "sgm.print_nearest('clever', 10, 'euclidean')\n",
    "sgm.print_nearest('mandarin', 10, 'euclidean')"
   ]
  },
  {
   "cell_type": "code",
   "execution_count": 91,
   "metadata": {
    "scrolled": true
   },
   "outputs": [
    {
     "name": "stdout",
     "output_type": "stream",
     "text": [
      "Nearest to cat\n",
      "           word   distance\n",
      "==============================\n",
      "           cats | 0.3666\n",
      "            dog | 0.4341\n",
      "          breed | 0.4411\n",
      "       domestic | 0.5476\n",
      "            fur | 0.5532\n",
      "        friends | 0.5652\n",
      "        cartoon | 0.5668\n",
      "          white | 0.5706\n",
      "            pet | 0.5755\n",
      "           girl | 0.5758\n",
      "==============================\n",
      "\n",
      "Nearest to loves\n",
      "           word   distance\n",
      "==============================\n",
      "          wants | 0.4460\n",
      "           sees | 0.4635\n",
      "         thinks | 0.4721\n",
      "      everybody | 0.4826\n",
      "          tells | 0.4933\n",
      "       believes | 0.4935\n",
      "          tries | 0.4943\n",
      "          likes | 0.4970\n",
      "        decides | 0.4972\n",
      "           love | 0.4984\n",
      "==============================\n",
      "\n",
      "Nearest to clever\n",
      "           word   distance\n",
      "==============================\n",
      "    intelligent | 0.5373\n",
      "         really | 0.5481\n",
      "           good | 0.5740\n",
      "           knew | 0.5809\n",
      "         stupid | 0.5821\n",
      "            fun | 0.5827\n",
      "          happy | 0.5827\n",
      "     interested | 0.5922\n",
      "          proud | 0.5986\n",
      "          think | 0.6018\n",
      "==============================\n",
      "\n",
      "Nearest to mandarin\n",
      "           word   distance\n",
      "==============================\n",
      "        chinese | 0.4362\n",
      "      cantonese | 0.5053\n",
      "           hong | 0.5107\n",
      "        english | 0.5124\n",
      "             wu | 0.5346\n",
      "             li | 0.5461\n",
      "       language | 0.5697\n",
      "           yuan | 0.5789\n",
      "       japanese | 0.5809\n",
      "           kong | 0.5814\n",
      "==============================\n",
      "\n"
     ]
    }
   ],
   "source": [
    "sgm.print_nearest('cat', 10, 'cosine')\n",
    "sgm.print_nearest('loves', 10, 'cosine')\n",
    "sgm.print_nearest('clever', 10, 'cosine')\n",
    "sgm.print_nearest('mandarin', 10, 'cosine')"
   ]
  },
  {
   "cell_type": "markdown",
   "metadata": {},
   "source": [
    "It's clear, that `cosine` metric gives us a bit better results semantically, for instance, `intelligent` is intuitively much closer to `clever` than `really` or `good`."
   ]
  },
  {
   "cell_type": "code",
   "execution_count": 94,
   "metadata": {},
   "outputs": [
    {
     "name": "stdout",
     "output_type": "stream",
     "text": [
      "Nearest to king - man + woman\n",
      "           word   distance\n",
      "==============================\n",
      "          queen | 0.4088\n",
      "            she | 0.5234\n",
      "       princess | 0.5237\n",
      "            her | 0.5253\n",
      "      elizabeth | 0.5307\n",
      "         female | 0.5314\n",
      "        kingdom | 0.5404\n",
      "          women | 0.5654\n",
      "       margaret | 0.5664\n",
      "           lady | 0.5674\n",
      "==============================\n",
      "\n"
     ]
    }
   ],
   "source": [
    "sgm.print_sub_add_nearest('king', 'man', 'woman', 10, 'cosine')"
   ]
  },
  {
   "cell_type": "markdown",
   "metadata": {},
   "source": [
    "Let's solve some funny tasks:\n",
    "\n",
    "Firstly, we will find the capital for a country:"
   ]
  },
  {
   "cell_type": "code",
   "execution_count": 95,
   "metadata": {},
   "outputs": [
    {
     "name": "stdout",
     "output_type": "stream",
     "text": [
      "Nearest to athens - greece + norway\n",
      "           word   distance\n",
      "==============================\n",
      "           oslo | 0.4196\n",
      "          munch | 0.5373\n",
      "        private | 0.6150\n",
      "         danish | 0.6187\n",
      "         berlin | 0.6195\n",
      "      norwegian | 0.6203\n",
      "     cincinnati | 0.6212\n",
      "   philadelphia | 0.6226\n",
      "            men | 0.6243\n",
      "         museum | 0.6250\n",
      "==============================\n",
      "\n"
     ]
    }
   ],
   "source": [
    "sgm.print_sub_add_nearest('athens', 'greece', 'norway', 10, 'cosine')"
   ]
  },
  {
   "cell_type": "markdown",
   "metadata": {},
   "source": [
    "Finding plural form of a word:"
   ]
  },
  {
   "cell_type": "code",
   "execution_count": 111,
   "metadata": {},
   "outputs": [
    {
     "name": "stdout",
     "output_type": "stream",
     "text": [
      "Nearest to cars - car + woman\n",
      "           word   distance\n",
      "==============================\n",
      "          women | 0.4522\n",
      "            men | 0.5229\n",
      "            man | 0.5376\n",
      "         female | 0.5504\n",
      "           ones | 0.5763\n",
      "        however | 0.5774\n",
      "           them | 0.5778\n",
      "         wonder | 0.5785\n",
      "            she | 0.5846\n",
      "           they | 0.5852\n",
      "==============================\n",
      "\n"
     ]
    }
   ],
   "source": [
    "sgm.print_sub_add_nearest('cars', 'car', 'woman', 10, 'cosine')"
   ]
  },
  {
   "cell_type": "markdown",
   "metadata": {},
   "source": [
    "Finding antonyms of a word:"
   ]
  },
  {
   "cell_type": "code",
   "execution_count": 127,
   "metadata": {},
   "outputs": [
    {
     "name": "stdout",
     "output_type": "stream",
     "text": [
      "Nearest to little - big + high\n",
      "           word   distance\n",
      "==============================\n",
      "            low | 0.4920\n",
      "         school | 0.5021\n",
      "         higher | 0.5030\n",
      "         junior | 0.5523\n",
      "         normal | 0.5537\n",
      "          girls | 0.5588\n",
      "           boys | 0.5736\n",
      "        grammar | 0.5824\n",
      "          level | 0.5841\n",
      "          young | 0.5853\n",
      "==============================\n",
      "\n"
     ]
    }
   ],
   "source": [
    "sgm.print_sub_add_nearest('little', 'big', 'high', 10, 'cosine')"
   ]
  },
  {
   "cell_type": "markdown",
   "metadata": {
    "collapsed": true
   },
   "source": [
    "### 4. GloVe\n",
    "This model combines two ideas:\n",
    "1. Factorization of the matrix, as in LSA\n",
    "2. Context of word is adjacent words in the corpus, just in word2vec.\n",
    "\n",
    "Let matrix $X$ at position $i,j$ stores how many times the word $j$ was found in the context of word $i$. This matrix is filled with our corpus of text. Then the probability that the word $j$ appears in the context of word $i$ is equal to\n",
    "$$P_{ij} = \\frac{X_{ij}}{\\sum_k X_{ik}}$$\n",
    "\n",
    "At the same time we want to find some function $F$ and word embeddings that \n",
    "$$F((w_i - w_j)^T w_k) = \\frac{F(w_i^T w_k)}{F(w_j^T w_k)} = \\frac{P_{ik}}{P_{jk}}.$$\n",
    "About motivation it's better to read in the original [paper](http://nlp.stanford.edu/pubs/glove.pdf).\n",
    "Possible solution may be following\n",
    "$$\\exp(w_i^T w_j) = P_{ij}.$$\n",
    "\n",
    "After a series of transformations you can receive that\n",
    "$$w_i^T w_j = \\log X_{ij} - \\log\\big(\\sum_k X_{ik}\\big)$$\n",
    "\n",
    "Obviously, right part doesn't depend on $j$, but the resulting model is offered to be written symmetry as\n",
    "$$w_i^T w_j + b_i + b_j = \\log X_{ij}$$\n",
    "\n",
    "As loss function authors suggest to use weighted MSE\n",
    "$$\\mathcal{L} = \\sum_{i,j = 1}^{|W|} f(X_{ij}) \\Big(w_i^T w_j + b_i + b_j - \\log(X_{ij}) \\Big)^2,$$\n",
    "where $f$ is some weight function, defined for each pair of words. It is reasonable to store $X$ as sparse matrix. It is also noteworthy that during training only **not null** values of $X$ used. Model is trained with stochastic gradient descent. As some way of regularization the authors suggest to use two different matrices $W$ и $W'$ for word and context, so model can be rewritten as\n",
    "$$w_i^T {w'}_j + b_i + b_j = \\log X_{ij}$$\n",
    "The resulted embedding of a word is the sum of two trained views $w + w'$.\n",
    "\n",
    "#### Some additional GloVe tricks\n",
    "1. In order to understand how you can choose $f$, please, read the original paper.\n",
    "2. Also you are welcome to see, how $X$ is formed in the original article.\n",
    "\n",
    "#### Further reading\n",
    "1. GloVe [site](http://nlp.stanford.edu/projects/glove/).\n",
    "2. Some words about [t-SNE](http://lvdmaaten.github.io/tsne/).\n",
    "\n",
    "#### Exercises\n",
    "1. Estimate complexity of model for one iteration. Choose appropriate $c$ for you.\n",
    "2. Train GloVe word embeddings ($d$=256).\n",
    "3. Check that v(king) - v(man) + v(women) is approximately equal v(queen).\n",
    "4. Read about [t-SNE](https://en.wikipedia.org/wiki/T-distributed_stochastic_neighbor_embedding).\n",
    "5. Use t-SNE to reduce the size of embeddings to 3. Make sure that the following groups of vectors are collinear (use visualization)\n",
    "  * [man, woman], [Mr., Ms], [king, queen], etc\n",
    "  * [CEO, company]\n",
    "  * [adjective, its comparative form]"
   ]
  },
  {
   "cell_type": "code",
   "execution_count": null,
   "metadata": {},
   "outputs": [],
   "source": []
  },
  {
   "cell_type": "markdown",
   "metadata": {},
   "source": [
    "### 5. FastText\n",
    "[FastText](https://arxiv.org/pdf/1607.04606.pdf) is a logical development of skip-gram model. The core feature is to present the word as the sum of its n-grams embeddings and its own embedding vector. For example, if we want to use only 3-grams, than word **fast** be reprented as n-grams **-fa**, **fas**, **ast**, **st-** and word **-fast-**. The context is encoeded in usual way, as a result similarity of word and context word is the following sum\n",
    "$$s(w, c) = \\sum_{n \\in N_w} z^{T}_n v'_{c},$$\n",
    "where $N_w$ is the set of all n-grams of word $w$ combined with word itself. The authors argue that the use of combination of 3-,4- and 5-grams helps to get better embeddings for rare and even unknown words (emdedding of word itself is null vector). For model training is proposed to use negative sampling.\n",
    "\n",
    "You can find more information on [site](https://fasttext.cc) of FastText.\n",
    "\n",
    "#### Exercises\n",
    "1. Train FastText word embeddings ($d$=256).\n",
    "2. Find some rare words in your corpus and find top-5 nearest words for them, using cosinus as metric.\n",
    "3. Compare results with classic word2vec.\n",
    "4. Invent some funny new word and found its top-5 nearest words again.\n",
    "5. How could you compare all models. Suggest your metric (see papers for inspiration)."
   ]
  }
 ],
 "metadata": {
  "kernelspec": {
   "display_name": "Python 3",
   "language": "python",
   "name": "python3"
  },
  "language_info": {
   "codemirror_mode": {
    "name": "ipython",
    "version": 3
   },
   "file_extension": ".py",
   "mimetype": "text/x-python",
   "name": "python",
   "nbconvert_exporter": "python",
   "pygments_lexer": "ipython3",
   "version": "3.5.2"
  }
 },
 "nbformat": 4,
 "nbformat_minor": 1
}
