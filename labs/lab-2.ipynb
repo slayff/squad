{
 "cells": [
  {
   "cell_type": "markdown",
   "metadata": {},
   "source": [
    "# L2 - Multilayer perceptron\n",
    "\n",
    "### Papers\n",
    "1. [TensorFlow](https://static.googleusercontent.com/media/research.google.com/en//pubs/archive/45166.pdf)\n",
    "\n",
    "### TensorFlow\n",
    "1. [Installing TensorFlow](https://www.tensorflow.org/install/)\n",
    "2. [Basics of TensorFlow](https://www.tensorflow.org/get_started/get_started)\n",
    "3. [Mnist with TensorFlow](https://www.tensorflow.org/get_started/mnist/pros)\n",
    "4. [TensorFlow Mechanics](https://www.tensorflow.org/get_started/mnist/mechanics)\n",
    "5. [Visualization](https://www.tensorflow.org/get_started/graph_viz)\n",
    "\n",
    "\n",
    "### One more thing\n",
    "1. [Jupyter tutorial](https://habrahabr.ru/company/wunderfund/blog/316826/)\n",
    "2. [Plot.ly](https://plot.ly/python/)\n",
    "3. [Widgets](http://jupyter.org/widgets.html)"
   ]
  },
  {
   "cell_type": "markdown",
   "metadata": {},
   "source": [
    "### 1. Linear multi-classification problem\n",
    "\n",
    "We have already learned binary linear classifier\n",
    "$$y = \\text{sign}(w^Tx).$$\n",
    "There are [several approaches](https://en.wikipedia.org/wiki/Multiclass_classification) to solve the problem of multi-class classification. For example [reduction](https://en.wikipedia.org/wiki/Multiclass_classification#Transformation_to_Binary) of problem to binary classifier or [modification](https://en.wikipedia.org/wiki/Support_vector_machine#Multiclass_SVM) of the known model. However we are interested in approaches that is applied in neural networks.\n",
    "\n",
    "For each class $c \\in 1, \\dots, |C|$ we have an individual row $w_i$ of matrix $W$. Then the probability of $x$ belonging to a particular class is equal to\n",
    "$$p_i = \\frac{\\exp(w_i^Tx)}{\\sum_j \\exp(w_j^Tx)}.$$\n",
    "This is nothing, but [softmax](https://en.wikipedia.org/wiki/Softmax_function) function of $Wx$.\n",
    "$$(p_1, \\dots, p_{|C|}) = \\text{softmax}(Wx).$$\n",
    "\n",
    "If you look closely, $\\text{softmax}$ is a more general variant of sigmoid. To see this, it suffices to consider the case $|C|=2$. As usual the training can be reduced to minimization of the empirical risk, namely, optimization problem\n",
    "$$\\arg\\min_W Q(W) = \\arg\\min_W -\\frac{1}{\\mathcal{l}}\\sum_y\\sum_i [y = i] \\cdot \\ln(p_i(W)).$$\n",
    "Actually, the maximization of the log-likelihood is written above.\n",
    "\n",
    "#### Exercises\n",
    "1. Find $\\frac{dQ}{dW}$ in matrix form (hint: start with $\\frac{dQ}{dw_i}$ for begining).\n",
    "2. Please plot several mnist images (e.g using grid 5x5).\n",
    "3. Train linear multi-label classifier for [mnist](https://www.kaggle.com/c/digit-recognizer) dataset with TensorFlow (possible, [this tutorial](https://www.tensorflow.org/get_started/mnist/pros) can help you).\n",
    "4. Chek accuracy on train and validation sets.\n",
    "5. Use a local [TensorBoard instance](https://www.tensorflow.org/get_started/graph_viz) to visualize resulted graph (no need to include in lab)."
   ]
  },
  {
   "cell_type": "markdown",
   "metadata": {},
   "source": [
    "## Solutions\n",
    "-----\n",
    "\n",
    "Let's find $\\frac{dQ}{dW}$. Firstly, we rewrite the loss funtion in more convinient way:\n",
    "\n",
    "$$Q(W) = -\\frac{1}{\\mathcal{l}}\\sum_{j=1}^{l}\\sum_{i=1}^{k} [y^{(j)} = i] \\cdot \\ln(\\frac{\\exp(w_i^Tx^j)}{\\sum_l \\exp(w_l^Tx^j)})$$\n",
    "\n",
    "Here we use the following notation: $l$ is the number of elements in a set, $k$ is the number of labels and $y$ is the vector-string of labels such that $y^{(j)}$ corresponds to the element $j$. We assume that $W$ is a parameter-matrix, where vectors $w_i$ are stacked in rows. Therefore vectors $x_i$, which represent the attributes of $i$-th element, are stacked in cols in matrix $X$.\n",
    "\n",
    "It's easier to come up with the solution by differentiating the function respectively to the $w_i$ row:\n",
    "\n",
    "$$\\frac{\\partial Q}{\\partial w_i} = -\\frac{1}{\\mathcal{l}} \\big( \\sum_{j=1}^{l}\\big[y^{(j)} = i\\big] \\frac{\\sum_l \\exp(w_l^Tx^j)}{\\exp(w_i^Tx^j)}  \\cdot \\frac{\\sum_l \\exp(w_l^Tx^j) \\cdot \\exp(w_i^Tx^{(j)})x^{(j)} - (\\exp(w_i^Tx^{(j)})^2x^{(j)}} {(\\sum_l \\exp(w_l^Tx^j))^2} \\big)$$\n",
    "\n",
    "\n",
    "$$\\frac{\\partial Q}{\\partial w_i} = -\\frac{1}{\\mathcal{l}} \\big( \\sum_{j=1}^{l} x^{(j)}\\big( [y^{(j)} = i] - \\frac{\\exp(w_i^Tx^j)}{\\sum_l \\exp(w_l^Tx^j)}\\big)\\big)$$\n",
    "\n",
    "Actually, $\\frac{\\partial Q}{\\partial w_i}$ is itself a vector such that it's $j$-th element is a partial derivative $\\frac{\\partial Q}{\\partial w_{ij}}$. In order to rewrite the formula in a matrix form we introduce a new matrix $Y : Y_{ij} = \\left\\{\n",
    "\\begin{aligned}\n",
    "1&, \\text{if j-th element has i-th label} \\\\\n",
    "0&, \\text{otherwise}\n",
    "\\end{aligned}\n",
    "\\right.$\n",
    "\n",
    "Using $Y$, we can finally write the $\\frac{dQ}{dW}$:\n",
    "\n",
    "$$\\frac{dQ}{dW} = -\\frac{1}{\\mathcal{l}} \\big[ YX^T - PX^T\\big]$$\n",
    "\n",
    "Where $P$ is a matrix $WX$ with the softmax function being applied."
   ]
  },
  {
   "cell_type": "code",
   "execution_count": 2,
   "metadata": {
    "init_cell": true
   },
   "outputs": [],
   "source": [
    "import tensorflow as tf\n",
    "import numpy as np\n",
    "import numpy.linalg as nla\n",
    "import matplotlib.pyplot as plt\n",
    "import matplotlib.axes as axes\n",
    "import pandas as pd\n",
    "from sklearn.model_selection import train_test_split\n",
    "from sklearn import metrics\n",
    "from sklearn.utils import shuffle\n",
    "%matplotlib inline\n",
    "\n",
    "mnist_data = pd.read_csv('train.csv', sep=',')\n",
    "data = mnist_data.values"
   ]
  },
  {
   "cell_type": "code",
   "execution_count": 3,
   "metadata": {
    "scrolled": false
   },
   "outputs": [
    {
     "data": {
      "image/png": "[encoded data removed]",
      "text/plain": [
       "<matplotlib.figure.Figure at 0x117e999e8>"
      ]
     },
     "metadata": {},
     "output_type": "display_data"
    }
   ],
   "source": [
    "samplesN = 5\n",
    "samples = np.random.randint(0, data.shape[0], samplesN**2)\n",
    "f, ax  = plt.subplots(samplesN, samplesN)\n",
    "f.set_size_inches(7, 7)\n",
    "for i, s in enumerate(samples):\n",
    "    ax[i // samplesN, i % samplesN].axis('off')\n",
    "    ax[i // samplesN, i % samplesN].imshow(data[s, 1:].reshape(28, 28))"
   ]
  },
  {
   "cell_type": "markdown",
   "metadata": {},
   "source": [
    "Let's now implement simple linear multi-label classifier using `Tensorflow`:"
   ]
  },
  {
   "cell_type": "code",
   "execution_count": 6,
   "metadata": {
    "init_cell": true,
    "scrolled": false
   },
   "outputs": [],
   "source": [
    "def NextBatch(X, Y, batch_size):\n",
    "    begin = 0\n",
    "    x_size = X.shape[0]\n",
    "    while begin < x_size:\n",
    "        end = min(begin + batch_size, x_size)\n",
    "        yield X[begin:end], Y[begin:end]\n",
    "        begin = end\n",
    "        \n",
    "mnist_labels = data[:, 0]\n",
    "mnist_set = data[:, 1:]\n",
    "\n",
    "#Let's preprocess data:\n",
    "mnist_set = mnist_set - np.mean(mnist_set, axis=0, dtype=np.float64)\n",
    "mnist_set /= 256.\n",
    "#mnist_set = mnist_set / (np.std(mnist_set, axis=0, dtype=np.float64) + 1e-20)\n",
    "\n",
    "x_train, x_test, y_train, y_test = train_test_split(mnist_set, mnist_labels,\n",
    "                                                    test_size=0.15, random_state=30)"
   ]
  },
  {
   "cell_type": "code",
   "execution_count": 23,
   "metadata": {},
   "outputs": [],
   "source": [
    "x = tf.placeholder(tf.float32, shape=[None, 784])\n",
    "y_ = tf.placeholder(tf.int32, shape=[None])\n",
    "W = tf.Variable(tf.truncated_normal([784,10], stddev=0.05))\n",
    "b = tf.Variable(tf.truncated_normal([10], stddev=0.05))\n",
    "y = tf.matmul(x,W) + b\n",
    "cross_entropy = tf.reduce_mean(tf.nn.sparse_softmax_cross_entropy_with_logits(labels=y_, logits=y))\n",
    "train_step = tf.train.GradientDescentOptimizer(0.5).minimize(cross_entropy)\n",
    "correct_prediction = tf.equal(tf.argmax(y, 1, output_type=tf.int32), y_)\n",
    "accuracy = tf.reduce_mean(tf.cast(correct_prediction, tf.float32))"
   ]
  },
  {
   "cell_type": "code",
   "execution_count": 8,
   "metadata": {
    "init_cell": true
   },
   "outputs": [],
   "source": [
    "from IPython.display import clear_output"
   ]
  },
  {
   "cell_type": "code",
   "execution_count": 53,
   "metadata": {},
   "outputs": [
    {
     "name": "stdout",
     "output_type": "stream",
     "text": [
      "accuracy on test 0.922063\n",
      "accuracy on train 0.930084\n"
     ]
    }
   ],
   "source": [
    "BATCH_SIZE = 100\n",
    "EPOCH_NUM = 10\n",
    "\n",
    "with tf.Session() as sess:\n",
    "    writer = tf.summary.FileWriter(\"logs_tensorboard/run_\" + str(RUN_NUM) + \"/\", sess.graph)\n",
    "    sess.run(tf.global_variables_initializer())\n",
    "    for epoch in range(EPOCH_NUM):\n",
    "        iter_num = 0\n",
    "        x_train, y_train = shuffle(x_train, y_train)\n",
    "        for x_batch, y_batch in NextBatch(x_train, y_train, BATCH_SIZE):\n",
    "            train_step.run(feed_dict={x: x_batch, y_: y_batch})\n",
    "            iter_num += 1\n",
    "            train_accuracy = accuracy.eval(feed_dict={x: x_batch, y_: y_batch})\n",
    "            print('step %d, epoch %d, training accuracy %g' % (iter_num, epoch, train_accuracy))\n",
    "            clear_output()\n",
    "\n",
    "    print('accuracy on test %g' % accuracy.eval(feed_dict={x: x_test, y_: y_test}))\n",
    "    print('accuracy on train %g' % accuracy.eval(feed_dict={x: x_train, y_: y_train}))\n",
    "    writer.close()"
   ]
  },
  {
   "cell_type": "markdown",
   "metadata": {},
   "source": [
    "Let's briefly touch on themes of regularization. As was discussed before, there are different approaches. We focus on the modification of loss function.\n",
    "\n",
    "$$\\arg\\min_W -\\frac{1}{\\mathcal{l}}\\sum_y\\sum_i [y = i] \\cdot \\ln(p_i(W)) + \\lambda_1 L_1(W) + \\lambda_2 L_2(W)$$\n",
    "\n",
    "1. $L_1(W) = sum_{i,j} |w_{i,j}|$ - sparsify weights (force to not use uncorrelated features)\n",
    "2. $L_2(W) = sum_{i,j} w_{i,j}^2$ - minimize weights (force to not overfit)\n",
    "\n",
    "#### Exercises\n",
    "1. Train model again using both type of regularization.\n",
    "2. Plot matrix of weights.\n",
    "3. Which pixels have zero weights? What does it mean?\n",
    "4. Have you improved accuracy on validation?"
   ]
  },
  {
   "cell_type": "code",
   "execution_count": 87,
   "metadata": {},
   "outputs": [],
   "source": [
    "RUN_NUM = 0"
   ]
  },
  {
   "cell_type": "code",
   "execution_count": 123,
   "metadata": {},
   "outputs": [],
   "source": [
    "g2 = tf.Graph()\n",
    "LAMBDA_1 = 1e-5\n",
    "LAMBDA_2 = 1e-5\n",
    "with g2.as_default():\n",
    "    x = tf.placeholder(tf.float32, shape=[None, 784])\n",
    "    y_ = tf.placeholder(tf.int32, shape=[None])\n",
    "    W = tf.Variable(tf.truncated_normal([784,10], stddev=0.05))\n",
    "    b = tf.Variable(tf.truncated_normal([10], stddev=0.05))\n",
    "    w_h = tf.summary.histogram(\"weights\", W)\n",
    "    b_h = tf.summary.histogram(\"biases\", b)\n",
    "\n",
    "    y = tf.matmul(x,W) + b\n",
    "    penalty_l1 = tf.reduce_sum(tf.abs(W))\n",
    "    penalty_l2 = tf.reduce_sum(tf.abs(W**2))\n",
    "    cross_entropy = tf.reduce_mean(tf.nn.sparse_softmax_cross_entropy_with_logits(labels=y_,\n",
    "                                                                                  logits=y)) + \\\n",
    "                                    LAMBDA_1 * penalty_l1 + LAMBDA_2 * penalty_l2\n",
    "    tf.summary.scalar(\"loss_function\", cross_entropy)\n",
    "    \n",
    "    train_step = tf.train.AdamOptimizer().minimize(cross_entropy)\n",
    "    correct_prediction = tf.equal(tf.argmax(y, 1, output_type=tf.int32), y_)\n",
    "    accuracy = tf.reduce_mean(tf.cast(correct_prediction, tf.float32))\n",
    "    merged = tf.summary.merge_all()"
   ]
  },
  {
   "cell_type": "code",
   "execution_count": 130,
   "metadata": {
    "scrolled": true
   },
   "outputs": [
    {
     "name": "stdout",
     "output_type": "stream",
     "text": [
      "accuracy on test 0.921429\n",
      "accuracy on train 0.927339\n"
     ]
    }
   ],
   "source": [
    "BATCH_SIZE = 100\n",
    "EPOCH_NUM = 10\n",
    "saver = tf.train.Saver({'w_predicted': W})\n",
    "with tf.Session(graph=g2) as sess:\n",
    "    RUN_NUM += 1\n",
    "    writer = tf.summary.FileWriter(\"logs_tensorboard/run_\" + str (RUN_NUM) + \"/\", sess.graph)\n",
    "    sess.run(tf.global_variables_initializer())\n",
    "    iter_num = 0\n",
    "    for epoch in range(EPOCH_NUM):\n",
    "        x_train, y_train = shuffle(x_train, y_train)\n",
    "        for x_batch, y_batch in NextBatch(x_train, y_train, BATCH_SIZE):\n",
    "            train_step.run(feed_dict={x: x_batch, y_: y_batch})\n",
    "            iter_num += 1\n",
    "            summary = sess.run(merged, feed_dict={x: x_batch, y_:y_batch})\n",
    "            writer.add_summary(summary, iter_num)\n",
    "            train_accuracy = accuracy.eval(feed_dict={x: x_batch, y_: y_batch})\n",
    "            print('step %d, epoch %d, training accuracy %g' % (iter_num, epoch, train_accuracy))\n",
    "            clear_output()\n",
    "            \n",
    "    save_path = saver.save(sess, \"logs_tensorboard/models/model.ckpt\")\n",
    "    print('accuracy on test %g' % accuracy.eval(feed_dict={x: x_test, y_: y_test}))\n",
    "    print('accuracy on train %g' % accuracy.eval(feed_dict={x: x_train, y_: y_train}))\n",
    "    writer.close()"
   ]
  },
  {
   "cell_type": "code",
   "execution_count": 181,
   "metadata": {},
   "outputs": [
    {
     "name": "stdout",
     "output_type": "stream",
     "text": [
      "INFO:tensorflow:Restoring parameters from logs_tensorboard/models/model.ckpt\n"
     ]
    },
    {
     "name": "stderr",
     "output_type": "stream",
     "text": [
      "INFO:tensorflow:Restoring parameters from logs_tensorboard/models/model.ckpt\n"
     ]
    },
    {
     "data": {
      "image/png": "[encoded data removed]",
      "text/plain": [
       "<matplotlib.figure.Figure at 0x11ba705f8>"
      ]
     },
     "metadata": {},
     "output_type": "display_data"
    }
   ],
   "source": [
    "with tf.Session(graph=g2) as sess:\n",
    "    sess.run(tf.global_variables_initializer())\n",
    "    saver.restore(sess, \"logs_tensorboard/models/model.ckpt\")\n",
    "    w_predicted = sess.run(W)\n",
    "    samplesN = 10\n",
    "    samples = range(samplesN + 2)\n",
    "    f, ax  = plt.subplots(4, 3)\n",
    "    f.set_size_inches(10, 10)\n",
    "    \n",
    "    for i in samples:\n",
    "        ax[i // 3, i % 3].axis('off')\n",
    "        if (i < 10):\n",
    "            ax[i // 3, i % 3].imshow(w_predicted[:, i].reshape(28, 28), cmap='magma')\n",
    "            ax[i // 3, i % 3].set_title('number %d' % i)\n",
    "            "
   ]
  },
  {
   "cell_type": "markdown",
   "metadata": {},
   "source": [
    "Several test showed that small $\\lambda$ leads to a strong underfitting with accuracy of about $0.2$. The parameter $\\lambda = 0,00001$ gives approximately the same accuracy rate as without regularization (a bit smaller on both train and validation sets, to be precise).\n",
    "\n",
    "As we have plot the \"images\" of weights, we can say why certain pixels are lighter and therefore have almost zero weight. These pixels (weights) are responsible for evaluating whether the number is in correct class - we can see, that the shape of light pixels resembles the numbers. If the test picture is the number of the current label, then we'll compute loss by multiplying pixels by weights and that loss will be adequately small.\n",
    "\n",
    "On the other hand, we can see dark areas on these pictures. It's how our model knows that the current test picture has definetely another label - when computing loss, we will get reasonably high values."
   ]
  },
  {
   "cell_type": "markdown",
   "metadata": {},
   "source": [
    "### 2. Universal approximation theorem\n",
    "\n",
    "What if we add more layers to our model? Namely, we train two matrix $W_2$ and $W_1$\n",
    "$$softmax(W_2\\cdot(W_1x)).$$\n",
    "\n",
    "At first glance adding more parameters helps to increase the generalizing ability of the model. Buy actually we have the same model $softmax(Wx)$, where $W = W_2\\cdot W_1$. But everyting changes with adding ome more layer. Let's add nonlinear function $\\sigma$ between $W_2$ and $W_1$\n",
    "\n",
    "$$softmax(W_2\\cdot \\sigma(W_1x)).$$\n",
    "\n",
    "Kurt Hornik showed in 1991 that it is not the specific choice of the nonlinear function, but rather the multilayer feedforward architecture itself which gives neural networks the potential of being universal approximators. The output units are always assumed to be linear. For notational convenience, only the single output case will be shown. The general case can easily be deduced from the single output case.\n",
    "\n",
    "Let $\\sigma(\\cdot)$ be a nonconstant, bounded, and monotonically-increasing continuous function.\n",
    "Let $\\mathcal{S}_m \\subset \\mathbb{R}^m$ denote any compact set. \n",
    "Then, given any $\\varepsilon > 0$ and any coninuous function $f$ on $\\mathcal{S}_m$, there exist an integer $N$ and real constants $v_i$, $b_i$ amd real vectors $w_i$ that\n",
    "\n",
    "$$\\left| \\sum _{i=1}^{N}v_{i}\\sigma \\left( w_i^{T} x+b_i \\right) - f(x) \\right| < \\varepsilon, ~~~ \\forall x \\in \\mathcal{S}_m.$$\n",
    "\n",
    "The theorem has non-constructive proof, it meams that no estimates for $N$ and no method to find approximation's parameters.\n",
    "\n",
    "#### Exercises\n",
    "1. Let $\\sigma$ – [heaviside step function](https://en.wikipedia.org/wiki/Heaviside_step_function) and $x \\in \\{0, 1\\}^2$. Prove that $y = \\sigma(wx + b)$ can approximate boolean function **OR** (hint: use constructive proof).\n",
    "2. What about **AND** function?\n",
    "3. Is it possible to implement **XOR**? Prove your words.\n",
    "4. Prove that 2-layer network can implement any boolean function.\n",
    "\n",
    "#### More useful facts:\n",
    "1. A 2-layer network in in $\\mathbb{R}^n$ allows to define convex polyhedron..\n",
    "2. A 3-layer network in в $\\mathbb{R}^n$ allows to define a not necessarily convex and not even necessarily connected area."
   ]
  },
  {
   "cell_type": "markdown",
   "metadata": {},
   "source": [
    "### 3. Backpropagation\n",
    "Backpropagation is a method used to calculate the error contribution of each layer after a batch of data. It is a special case of an older and more general technique called automatic differentiation. In the context of learning, backpropagation is commonly used by the gradient descent optimization algorithm to adjust the weight of layers by calculating the gradient of the loss function. This technique is also sometimes called backward propagation of errors, because the error is calculated at the output and distributed back through the network layers. The main motivation of method is simplify evaluation of gradient which is complex problem for multilayer nets.\n",
    "\n",
    "We need the following notation. Let $(y^1,\\dots,y^n) = f(x^1,\\dots,x^n)$ is some differentiable function and $\\frac{dy}{dx}$ is matrix\n",
    "$$\\frac{dy}{dx} = \\Big[ J_{ij} = \\frac{\\partial y^i}{\\partial x^j} \\Big]$$\n",
    "\n",
    "Without violating the generality, we can assume that each layer is a function $x_{i} = f(x_{i-1}, w_i)$. As last layer we add loss function, so we can assume our multi-layer net as function $Q(x_0) = Q(f_n(f_{n-1}(\\dots, w_{n-1}), w_n))$.\n",
    "\n",
    "#### Forward step\n",
    "Propagation forward through the network to generate the output values. Calculation of the loss function.\n",
    "\n",
    "#### Backward step\n",
    "Let's look at last layer. We can simply find $\\frac{dQ}{dx_n}$. Now we can evaluate \n",
    "\n",
    "$$\\frac{dQ}{dw_n} = \\frac{dQ}{dx_n}\\frac{dx_n}{dw_n} \\text{ and } \\frac{dQ}{dx_{n-1}} = \\frac{dQ}{dx_n}\\frac{dx_n}{dx_{n-1}}$$\n",
    "\n",
    "Now we need calculate $\\frac{dQ}{dw_{n-2}}$ и $\\frac{dQ}{dx_{n-2}}$. But we have the same situation. We know $\\frac{dQ}{dx_k}$, so can evaluate $\\frac{dQ}{dw_k}$ and $\\frac{dQ}{dx_{k-1}}$. Repeating this operation we find all the gradients. Now it's only remains to make a gradient step to update weights.\n",
    "\n",
    "#### Exercises\n",
    "1. Read more about [vanishing gradient](https://en.wikipedia.org/wiki/Vanishing_gradient_problem).\n",
    "2. Train 2 layer net. Use sigmoid as nonlinearity.\n",
    "3. Check accuracy on validation set.\n",
    "4. Use [ReLu](https://en.wikipedia.org/wiki/Rectifier_(neural_networks) or LeakyReLu as nonlinearity. Compare accuracy and convergence with previous model.\n",
    "5. Play with different architectures (add more layers, regularization and etc).\n",
    "6. Show your best model.\n",
    "7. How does quality change with adding layers. Prove your words, train model for 2, 3, 5, 7 and 10 layers.\n",
    "8. Using backpropagation find optimal  digit 8 for your net.*"
   ]
  },
  {
   "cell_type": "code",
   "execution_count": 19,
   "metadata": {},
   "outputs": [],
   "source": [
    "def TrainModel(\n",
    "    layers_num=2,\n",
    "    layers_sizes=[784, 10],\n",
    "    activation_f='sigmoid',\n",
    "    l1_reg_coef=0.,\n",
    "    l2_reg_coef=0.,\n",
    "    batch_size=100,\n",
    "    epoch_num=10\n",
    "):\n",
    "    if layers_num > len(layers_sizes):\n",
    "        layers_sizes = [784]\n",
    "        k = layers_num - 1\n",
    "        while layers_sizes[-1] % 2 == 0 and k - 1:\n",
    "            layers_sizes.append(layers_sizes[-1] // 2)\n",
    "            k -= 1\n",
    "        while k - 1:\n",
    "            layers_sizes.append(layers_sizes[-1])\n",
    "            k -= 1\n",
    "        layers_sizes.append(10)\n",
    "    elif len(layers_sizes) > layers_num:\n",
    "        layers_num = len(layers_sizes)\n",
    "            \n",
    "    g_ = tf.Graph()\n",
    "    with g_.as_default():\n",
    "        activation_dict = {'sigmoid' : tf.sigmoid,\n",
    "                           'relu' : tf.nn.relu,\n",
    "                           'tanh' : tf.nn.tanh,\n",
    "                           'leakyrelu': tf.nn.leaky_relu\n",
    "                          }\n",
    "        activation = activation_dict[activation_f]\n",
    "        x = tf.placeholder(tf.float32, shape=[None, 784])\n",
    "        y_ = tf.placeholder(tf.int32, shape=[None])\n",
    "        layers_list = [x]\n",
    "        for i in range(1, layers_num):\n",
    "            layers_list.append(tf.layers.dense(layers_list[i - 1],\n",
    "                                              layers_sizes[i - 1],\n",
    "                                              activation=activation,\n",
    "                                              kernel_initializer=tf.truncated_normal_initializer(\n",
    "                                                  stddev=0.1),\n",
    "                                              bias_initializer=tf.truncated_normal_initializer(\n",
    "                                                  stddev=0.1),\n",
    "                                              activity_regularizer=tf.contrib.layers.l1_l2_regularizer(\n",
    "                                              l1_reg_coef, l2_reg_coef)\n",
    "                                             ))\n",
    "        y = tf.layers.dense(layers_list[-1],\n",
    "                            layers_sizes[-1],\n",
    "                            kernel_initializer=tf.truncated_normal_initializer(\n",
    "                                        stddev=0.1),\n",
    "                            bias_initializer=tf.truncated_normal_initializer(\n",
    "                                        stddev=0.1),\n",
    "                            activity_regularizer=tf.contrib.layers.l1_l2_regularizer(\n",
    "                                        l1_reg_coef, l2_reg_coef)\n",
    "                           )\n",
    "        cross_entropy = tf.reduce_mean(tf.nn.sparse_softmax_cross_entropy_with_logits(labels=y_,\n",
    "                                                                                      logits=y))\n",
    "        train_step = tf.train.AdamOptimizer().minimize(cross_entropy)\n",
    "        correct_prediction = tf.equal(tf.argmax(y, 1, output_type=tf.int32), y_)\n",
    "        accuracy = tf.reduce_mean(tf.cast(correct_prediction, tf.float32))\n",
    "    with tf.Session(graph=g_) as sess:\n",
    "        sess.run(tf.global_variables_initializer())\n",
    "        iter_num = 0\n",
    "        for epoch in range(epoch_num):\n",
    "            x_train_, y_train_ = shuffle(x_train, y_train)\n",
    "            for x_batch, y_batch in NextBatch(x_train_, y_train_, batch_size):\n",
    "                train_step.run(feed_dict={x: x_batch, y_: y_batch})\n",
    "                iter_num += 1\n",
    "                train_accuracy = accuracy.eval(feed_dict={x: x_batch, y_: y_batch})\n",
    "                print('step %d, epoch %d, training accuracy %g' % (iter_num, epoch, train_accuracy))\n",
    "                clear_output()\n",
    "        print('Testing model with', activation_f, 'nonlinearity')\n",
    "        print('Layers are used :', layers_sizes)\n",
    "        print('accuracy on train %g' % accuracy.eval(feed_dict={x: x_train, y_: y_train}))\n",
    "        print('accuracy on test %g' % accuracy.eval(feed_dict={x: x_test, y_: y_test}))"
   ]
  },
  {
   "cell_type": "code",
   "execution_count": 197,
   "metadata": {},
   "outputs": [
    {
     "name": "stdout",
     "output_type": "stream",
     "text": [
      "Testing model with sigmoid nonlinearity\n",
      "Layers are used : [784, 10]\n",
      "accuracy on train 0.992717\n",
      "accuracy on test 0.965397\n"
     ]
    }
   ],
   "source": [
    "TrainModel(layers_num=2, activation_f='sigmoid', l1_reg_coef=1e-3, l2_reg_coef=1e-3)"
   ]
  },
  {
   "cell_type": "code",
   "execution_count": 198,
   "metadata": {},
   "outputs": [
    {
     "name": "stdout",
     "output_type": "stream",
     "text": [
      "Testing model with leakyrelu nonlinearity\n",
      "Layers are used : [784, 10]\n",
      "accuracy on train 0.993277\n",
      "accuracy on test 0.96381\n"
     ]
    }
   ],
   "source": [
    "TrainModel(layers_num=2, activation_f='leakyrelu', l1_reg_coef=1e-3, l2_reg_coef=1e-3)"
   ]
  },
  {
   "cell_type": "code",
   "execution_count": 199,
   "metadata": {},
   "outputs": [
    {
     "name": "stdout",
     "output_type": "stream",
     "text": [
      "Testing model with leakyrelu nonlinearity\n",
      "Layers are used : [784, 392, 196, 10]\n",
      "accuracy on train 0.992269\n",
      "accuracy on test 0.966349\n"
     ]
    }
   ],
   "source": [
    "TrainModel(layers_sizes=[784, 392, 196, 10], activation_f='leakyrelu', l1_reg_coef=1e-5, l2_reg_coef=1e-5)"
   ]
  },
  {
   "cell_type": "code",
   "execution_count": 203,
   "metadata": {},
   "outputs": [
    {
     "name": "stdout",
     "output_type": "stream",
     "text": [
      "Testing model with tanh nonlinearity\n",
      "Layers are used : [784, 392, 100, 10]\n",
      "accuracy on train 0.997535\n",
      "accuracy on test 0.971905\n"
     ]
    }
   ],
   "source": [
    "TrainModel(layers_sizes=[784, 392, 100, 10], activation_f='tanh')"
   ]
  },
  {
   "cell_type": "code",
   "execution_count": 204,
   "metadata": {},
   "outputs": [
    {
     "name": "stdout",
     "output_type": "stream",
     "text": [
      "Testing model with relu nonlinearity\n",
      "Layers are used : [784, 196, 10]\n",
      "accuracy on train 0.996359\n",
      "accuracy on test 0.976032\n"
     ]
    }
   ],
   "source": [
    "TrainModel(layers_sizes=[784, 196, 10], activation_f='relu', batch_size=60, epoch_num=15)"
   ]
  },
  {
   "cell_type": "code",
   "execution_count": 205,
   "metadata": {},
   "outputs": [
    {
     "name": "stdout",
     "output_type": "stream",
     "text": [
      "Testing model with leakyrelu nonlinearity\n",
      "Layers are used : [784, 392, 10]\n",
      "accuracy on train 0.99577\n",
      "accuracy on test 0.973651\n"
     ]
    }
   ],
   "source": [
    "TrainModel(layers_sizes=[784, 392, 10], activation_f='leakyrelu', batch_size=60, epoch_num=20,\n",
    "         l1_reg_coef=1e-5, l2_reg_coef=1e-5)"
   ]
  },
  {
   "cell_type": "code",
   "execution_count": 208,
   "metadata": {},
   "outputs": [
    {
     "name": "stdout",
     "output_type": "stream",
     "text": [
      "Testing model with leakyrelu nonlinearity\n",
      "Layers are used : [784, 392, 196, 10]\n",
      "accuracy on train 0.989076\n",
      "accuracy on test 0.967937\n"
     ]
    }
   ],
   "source": [
    "TrainModel(layers_sizes=[784, 392, 196, 10], activation_f='leakyrelu', batch_size=60, epoch_num=10)"
   ]
  },
  {
   "cell_type": "markdown",
   "metadata": {},
   "source": [
    "Let's test, how the size of the whole network affects the convergence and accuracy:"
   ]
  },
  {
   "cell_type": "code",
   "execution_count": 10,
   "metadata": {
    "scrolled": true
   },
   "outputs": [
    {
     "name": "stdout",
     "output_type": "stream",
     "text": [
      "Testing model with leakyrelu nonlinearity\n",
      "Layers are used : [784, 10]\n",
      "accuracy on train 0.996751\n",
      "accuracy on test 0.969048\n"
     ]
    }
   ],
   "source": [
    "TrainModel(layers_num=2, activation_f='leakyrelu', l1_reg_coef=1e-5, l2_reg_coef=1e-5)"
   ]
  },
  {
   "cell_type": "code",
   "execution_count": 11,
   "metadata": {},
   "outputs": [
    {
     "name": "stdout",
     "output_type": "stream",
     "text": [
      "Testing model with leakyrelu nonlinearity\n",
      "Layers are used : [784, 392, 10]\n",
      "accuracy on train 0.989832\n",
      "accuracy on test 0.965873\n"
     ]
    }
   ],
   "source": [
    "TrainModel(layers_num=3, activation_f='leakyrelu', l1_reg_coef=1e-5, l2_reg_coef=1e-5)"
   ]
  },
  {
   "cell_type": "code",
   "execution_count": 12,
   "metadata": {},
   "outputs": [
    {
     "name": "stdout",
     "output_type": "stream",
     "text": [
      "Testing model with leakyrelu nonlinearity\n",
      "Layers are used : [784, 392, 196, 98, 10]\n",
      "accuracy on train 0.993669\n",
      "accuracy on test 0.971587\n"
     ]
    }
   ],
   "source": [
    "TrainModel(layers_num=5, activation_f='leakyrelu', l1_reg_coef=1e-5, l2_reg_coef=1e-5)"
   ]
  },
  {
   "cell_type": "code",
   "execution_count": 9,
   "metadata": {},
   "outputs": [
    {
     "name": "stdout",
     "output_type": "stream",
     "text": [
      "Testing model with leakyrelu nonlinearity\n",
      "Layers are used : [784, 392, 196, 98, 49, 49, 10]\n",
      "accuracy on train 0.994622\n",
      "accuracy on test 0.97254\n"
     ]
    }
   ],
   "source": [
    "TrainModel(layers_num=7, activation_f='leakyrelu', l1_reg_coef=1e-5, l2_reg_coef=1e-5)"
   ]
  },
  {
   "cell_type": "code",
   "execution_count": 20,
   "metadata": {},
   "outputs": [
    {
     "name": "stdout",
     "output_type": "stream",
     "text": [
      "Testing model with leakyrelu nonlinearity\n",
      "Layers are used : [784, 784, 784, 784, 784, 784, 784, 784, 784, 10]\n",
      "accuracy on train 0.984958\n",
      "accuracy on test 0.959206\n"
     ]
    }
   ],
   "source": [
    "TrainModel(layers_sizes=[784, 784, 784, 784, 784, 784, 784, 784, 784, 10],\n",
    "           activation_f='leakyrelu')"
   ]
  },
  {
   "cell_type": "markdown",
   "metadata": {},
   "source": [
    "### 4. Autoencoders\n",
    "An autoencoder is an network used for unsupervised learning of efficient codings. The aim of an autoencoder is to learn a representation (encoding) for a set of data, typically for the purpose of dimensionality reduction. Also, this technique can be used to train deep nets.\n",
    "\n",
    "Architecturally, the simplest form of an autoencoder is a feedforward net very similar to the multilayer perceptron (MLP), but with the output layer having the same number of nodes as the input layer, and with the purpose of reconstructing its own inputs. Therefore, autoencoders are unsupervised learning models. An autoencoder always consists of two parts, the encoder and the decoder. Encoder returns latent representation of the object (compressed representation, usuallu smaller dimension), but decoder restores object from this latent representation. Autoencoders are also trained to minimise reconstruction errors (e.g. MSE).\n",
    "\n",
    "Various techniques exist to prevent autoencoders from learning the identity and to improve their ability to capture important information:\n",
    "1. Denoising autoencoder - take a partially corrupted input.\n",
    "2. Sparse autoencoder - impose sparsity on the hidden units during training (whilst having a larger number of hidden units than inputs).\n",
    "3. Variational autoencoder models inherit autoencoder architecture, but make strong assumptions concerning the distribution of latent variables.\n",
    "4. Contractive autoencoder - add an explicit regularizer in objective function that forces the model to learn a function that is robust to slight variations of input values.\n",
    "\n",
    "#### Exercises\n",
    "1. Train 2 layers autoencoder that compressed mnist images to $\\mathbb{R}^3$ space.\n",
    "2. For each digit plot several samples in 3D axis (use \"%matplotlib notebook\" mode or plotly). How do digits group?\n",
    "3. Train autoencoder with more layers. What are results?\n",
    "4. Use autoencoder to pretrain 2 layers (unsupervised) and then train the following layers with supervised method."
   ]
  }
 ],
 "metadata": {
  "celltoolbar": "Initialization Cell",
  "kernelspec": {
   "display_name": "Python 3",
   "language": "python",
   "name": "python3"
  },
  "language_info": {
   "codemirror_mode": {
    "name": "ipython",
    "version": 3
   },
   "file_extension": ".py",
   "mimetype": "text/x-python",
   "name": "python",
   "nbconvert_exporter": "python",
   "pygments_lexer": "ipython3",
   "version": "3.6.3"
  },
  "varInspector": {
   "cols": {
    "lenName": 16,
    "lenType": 16,
    "lenVar": 40
   },
   "kernels_config": {
    "python": {
     "delete_cmd_postfix": "",
     "delete_cmd_prefix": "del ",
     "library": "var_list.py",
     "varRefreshCmd": "print(var_dic_list())"
    },
    "r": {
     "delete_cmd_postfix": ") ",
     "delete_cmd_prefix": "rm(",
     "library": "var_list.r",
     "varRefreshCmd": "cat(var_dic_list()) "
    }
   },
   "oldHeight": 297,
   "position": {
    "height": "319px",
    "left": "771px",
    "right": "111px",
    "top": "55px",
    "width": "507px"
   },
   "types_to_exclude": [
    "module",
    "function",
    "builtin_function_or_method",
    "instance",
    "_Feature"
   ],
   "varInspector_section_display": "block",
   "window_display": false
  }
 },
 "nbformat": 4,
 "nbformat_minor": 1
}
